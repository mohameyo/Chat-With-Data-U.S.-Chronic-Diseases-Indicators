{
 "cells": [
  {
   "cell_type": "markdown",
   "id": "39091751-8475-4739-98cc-3b7cb6de92b0",
   "metadata": {},
   "source": [
    "# Combining Unstructured and Structured data\n",
    "\n",
    "The dataset for our proposed MVP consists only of structured data. Once we undestood how to query structured data we attempted to add unstructured documents such as pdf`s to our chatbot. A promising way to achieve that was a tool developed by llama-index called Auto SQL Query Engine.\n",
    "\n",
    "## SQL Auto Vector Query Engine\n",
    "\n",
    "This query engine allows you to combine insights from your structured tables with your unstructured data. It first uses LLM to reason weather the question shuld be answerd by looking at structured or unstructured pasrt of the dataset. Once it reaches a decision it then utilizes one of the available tools \n",
    "\n",
    " - SQLAutoVectorQueryEngine,\n",
    " - RetrieverQueryEngine"
   ]
  },
  {
   "cell_type": "markdown",
   "id": "89b7b197-d492-40b1-a724-54eee5e44b28",
   "metadata": {},
   "source": [
    "Since our dataset was initialy in a csv form, we developed a normalized postgress databse for our data. In order to run the code below you will need to setup a local database and use the provided scripts to create the neccessary tables **cdc_session.sql** and fill the databse with data contained in the dataset **transfer_data_to_database.py**. You can find the files in the Scripts folder. \n",
    "\n",
    "Your username, database name, passwords and api keys should all go into the .env file. Once you have that setup, you can run this notebook."
   ]
  },
  {
   "cell_type": "code",
   "execution_count": 2,
   "id": "956996b8-90df-4a75-850e-62dc9201dfce",
   "metadata": {},
   "outputs": [],
   "source": [
    "import os\n",
    "import openai\n",
    "from dotenv import load_dotenv\n",
    "\n",
    "# enter you credentials and api key into the .env file and load them\n",
    "load_dotenv('../.env', override=True)\n",
    "\n",
    "openai.api_key = os.getenv('OPENAI_API_KEY')\n",
    "\n",
    "# get Database credentials from the .env file\n",
    "load_dotenv(\"../.env\", override=True)\n",
    "DBUSER = os.environ[\"DBUSER\"]\n",
    "DBPASS = os.environ[\"DBPASS\"]\n",
    "DBHOST = os.environ[\"DBHOST\"]\n",
    "DBNAME = os.environ[\"DBNAME\"]\n",
    "DATABASE_URI = f\"postgresql://{DBUSER}:{DBPASS}@{DBHOST}/{DBNAME}\"\n",
    "if DBHOST != \"localhost\":\n",
    "    DATABASE_URI += \"?sslmode=require\""
   ]
  },
  {
   "cell_type": "markdown",
   "id": "a7c9dbce-36b3-4c89-aac1-a84c6829bad3",
   "metadata": {},
   "source": [
    "#### Create Common Objects\n",
    "\n",
    "These are common objects for the SQL and Vectorized query engines. This setup uses a free version of pinecone index."
   ]
  },
  {
   "cell_type": "code",
   "execution_count": 3,
   "id": "1734c8ca-b263-49ff-a2ce-cb17efa97737",
   "metadata": {},
   "outputs": [
    {
     "name": "stderr",
     "output_type": "stream",
     "text": [
      "/home/adnan/MADS/capstone/chatbot/lib/python3.9/site-packages/pinecone/index.py:4: TqdmExperimentalWarning: Using `tqdm.autonotebook.tqdm` in notebook mode. Use `tqdm.tqdm` instead to force console mode (e.g. in jupyter console)\n",
      "  from tqdm.autonotebook import tqdm\n"
     ]
    },
    {
     "name": "stdout",
     "output_type": "stream",
     "text": [
      "03005a3c-aca8-4caf-aa57-bfbf4e1687a8\n"
     ]
    }
   ],
   "source": [
    "# define pinecone index\n",
    "import pinecone\n",
    "import os\n",
    "\n",
    "# enter your PINECONE api key into .env file\n",
    "api_key = os.getenv('PINECONE_API_KEY')\n",
    "pinecone.init(api_key=api_key, environment='gcp-starter')\n",
    "print(api_key)\n",
    "# dimensions are for text-embedding-ada-002\n",
    "# pinecone.create_index(\"quickstart\", dimension=1536, metric=\"euclidean\", pod_type=\"p1\")\n",
    "pinecone_index = pinecone.Index(\"quickstart\")\n",
    "\n",
    "pinecone_index.delete('quickstart')\n",
    "\n",
    "\n",
    "from llama_index.node_parser.simple import SimpleNodeParser\n",
    "from llama_index import ServiceContext, VectorStoreIndex, SQLDatabase\n",
    "from llama_index.storage import StorageContext\n",
    "from llama_index.vector_stores import PineconeVectorStore\n",
    "from llama_index.text_splitter import TokenTextSplitter\n",
    "from llama_index.llms import OpenAI\n",
    "\n",
    "# define node parser and LLM\n",
    "chunk_size = 1024\n",
    "llm = OpenAI(temperature=0, model=\"gpt-4\", streaming=True)\n",
    "service_context = ServiceContext.from_defaults(chunk_size=chunk_size, llm=llm)\n",
    "text_splitter = TokenTextSplitter(chunk_size=chunk_size)\n",
    "node_parser = SimpleNodeParser.from_defaults(text_splitter=text_splitter)\n",
    "\n",
    "# define pinecone vector index\n",
    "vector_store = PineconeVectorStore(\n",
    "    pinecone_index=pinecone_index\n",
    ")\n",
    "storage_context = StorageContext.from_defaults(vector_store=vector_store)\n",
    "vector_index = VectorStoreIndex([], storage_context=storage_context)"
   ]
  },
  {
   "cell_type": "markdown",
   "id": "ab37995a-8181-4c11-97bf-355cd1d80dbd",
   "metadata": {},
   "source": [
    "## Setup"
   ]
  },
  {
   "cell_type": "code",
   "execution_count": 4,
   "id": "71b0bd9d-1975-471f-990e-a7dae32d58ea",
   "metadata": {},
   "outputs": [],
   "source": [
    "import nest_asyncio\n",
    "\n",
    "nest_asyncio.apply()\n",
    "\n",
    "import logging\n",
    "import sys\n",
    "\n",
    "logging.basicConfig(stream=sys.stdout, level=logging.INFO)\n",
    "logging.getLogger().addHandler(logging.StreamHandler(stream=sys.stdout))"
   ]
  },
  {
   "cell_type": "markdown",
   "id": "d3ae486f-f8aa-43c9-8f39-c1b830cf9357",
   "metadata": {},
   "source": [
    "## Connect to database"
   ]
  },
  {
   "cell_type": "code",
   "execution_count": 5,
   "id": "8fcee3b4-2f4d-4a20-b674-22dded9f68b0",
   "metadata": {},
   "outputs": [],
   "source": [
    "%load_ext sql\n",
    "from sqlalchemy import (\n",
    "    create_engine,\n",
    "    MetaData\n",
    ")"
   ]
  },
  {
   "cell_type": "code",
   "execution_count": 6,
   "id": "4f46b646-3f7e-4149-b438-e540ec6148de",
   "metadata": {},
   "outputs": [],
   "source": [
    "engine = create_engine(DATABASE_URI)"
   ]
  },
  {
   "cell_type": "code",
   "execution_count": 7,
   "id": "016bfb0f-19ae-4a11-a66b-0b6abe3aef9a",
   "metadata": {},
   "outputs": [
    {
     "name": "stdout",
     "output_type": "stream",
     "text": [
      "dict_keys(['surveydata', 'datasource', 'datatypes', 'locations', 'questions', 'topics', 'stratifications', 'stratificationcategories'])\n"
     ]
    }
   ],
   "source": [
    "metadata_obj = MetaData()\n",
    "\n",
    "# Reflect the current state of the database into the metadata\n",
    "metadata_obj.reflect(bind=engine)\n",
    "\n",
    "# Print table names\n",
    "print(metadata_obj.tables.keys())"
   ]
  },
  {
   "cell_type": "markdown",
   "id": "80d603aa-86d0-411f-a273-a7b7f8b2099b",
   "metadata": {},
   "source": [
    "### Build SQL Index "
   ]
  },
  {
   "cell_type": "code",
   "execution_count": 8,
   "id": "14f80905-b9fc-48af-8aac-57152e969135",
   "metadata": {},
   "outputs": [],
   "source": [
    "sql_database = SQLDatabase(engine, include_tables=[\"datasource\", \"datatypes\", \"locations\", \"questions\", \"stratificationcategories\", \"stratifications\", \"topics\", \"surveydata\"])"
   ]
  },
  {
   "cell_type": "code",
   "execution_count": 9,
   "id": "ba8afed6-0734-4984-8df1-683568acdf6e",
   "metadata": {},
   "outputs": [],
   "source": [
    "from llama_index.indices.struct_store.sql_query import NLSQLTableQueryEngine"
   ]
  },
  {
   "cell_type": "code",
   "execution_count": 30,
   "id": "dd542e06-a652-4ace-a29d-525ade63cd8f",
   "metadata": {},
   "outputs": [],
   "source": [
    "sql_query_engine = NLSQLTableQueryEngine(\n",
    "    sql_database=sql_database,\n",
    "    # tables=[\"chronic_disease_indicators\"],\n",
    ")"
   ]
  },
  {
   "cell_type": "code",
   "execution_count": 42,
   "id": "a612d9ed",
   "metadata": {},
   "outputs": [],
   "source": [
    "response_template = \"\"\"\n",
    "## Question\n",
    "\n",
    "{question}\n",
    "\n",
    "## Answer\n",
    "```\n",
    "{response}\n",
    "```\n",
    "## Generated SQL Query\n",
    "```\n",
    "{sql}\n",
    "```\n",
    "\"\"\""
   ]
  },
  {
   "cell_type": "code",
   "execution_count": 12,
   "id": "094fbefd",
   "metadata": {},
   "outputs": [],
   "source": [
    "from IPython.display import Markdown, display\n",
    "def chat_to_sql(question: str or list[str],tables: list[str] or None = None,synthesize_response: bool = True,):\n",
    "    query_engine = NLSQLTableQueryEngine(\n",
    "        sql_database=sql_database,\n",
    "        tables=tables,\n",
    "        synthesize_response=synthesize_response,\n",
    "        service_context=service_context,\n",
    "        )\n",
    "    \n",
    "    try:\n",
    "        response = query_engine.query(question)\n",
    "        response_md = str(response)\n",
    "        sql = response.metadata[\"sql_query\"]\n",
    "    except Exception as ex:\n",
    "        response_md = \"Error\"\n",
    "        sql = f\"ERROR: {str(ex)}\"\n",
    "\n",
    "   \n",
    "    display(Markdown(response_template.format(\n",
    "        question=question,\n",
    "        response=response_md,\n",
    "        sql=sql,\n",
    "    )))"
   ]
  },
  {
   "cell_type": "code",
   "execution_count": 13,
   "id": "aea34275",
   "metadata": {},
   "outputs": [
    {
     "name": "stdout",
     "output_type": "stream",
     "text": [
      "INFO:llama_index.indices.struct_store.sql_retriever:> Table desc str: Table 'datasource' has columns: datasourceid (INTEGER), datasource (VARCHAR(255)), and foreign keys: .\n",
      "\n",
      "Table 'datatypes' has columns: datatypeid (INTEGER), datavaluetype (VARCHAR(100)), datavalueunit (VARCHAR(100)), and foreign keys: .\n",
      "\n",
      "Table 'locations' has columns: locationid (INTEGER), locationabbr (VARCHAR(10)), locationdesc (VARCHAR(255)), geolocation (VARCHAR(255)), and foreign keys: .\n",
      "\n",
      "Table 'questions' has columns: questionid (INTEGER), question (VARCHAR(500)), topicid (INTEGER), and foreign keys: ['topicid'] -> topics.['topicid'].\n",
      "\n",
      "Table 'stratificationcategories' has columns: stratificationcategoryid (INTEGER), stratificationcategory (VARCHAR(255)), and foreign keys: .\n",
      "\n",
      "Table 'stratifications' has columns: stratificationid (INTEGER), stratification (VARCHAR(255)), stratificationcategoryid (INTEGER), and foreign keys: ['stratificationcategoryid'] -> stratificationcategories.['stratificationcategoryid'].\n",
      "\n",
      "Table 'surveydata' has columns: surveydataid (INTEGER), yearstart (INTEGER), yearend (INTEGER), locationid (INTEGER), datasourceid (INTEGER), questionid (INTEGER), datavalue (VARCHAR(100)), datavaluealt (NUMERIC), datavaluefootnotesymbol (VARCHAR(10)), datavaluefootnote (TEXT), lowconfidencelimit (NUMERIC), highconfidencelimit (NUMERIC), datatypeid (INTEGER), stratificationid (INTEGER), and foreign keys: ['datasourceid'] -> datasource.['datasourceid'], ['datatypeid'] -> datatypes.['datatypeid'], ['locationid'] -> locations.['locationid'], ['questionid'] -> questions.['questionid'], ['stratificationid'] -> stratifications.['stratificationid'].\n",
      "\n",
      "Table 'topics' has columns: topicid (INTEGER), topic (VARCHAR(255)), and foreign keys: .\n",
      "> Table desc str: Table 'datasource' has columns: datasourceid (INTEGER), datasource (VARCHAR(255)), and foreign keys: .\n",
      "\n",
      "Table 'datatypes' has columns: datatypeid (INTEGER), datavaluetype (VARCHAR(100)), datavalueunit (VARCHAR(100)), and foreign keys: .\n",
      "\n",
      "Table 'locations' has columns: locationid (INTEGER), locationabbr (VARCHAR(10)), locationdesc (VARCHAR(255)), geolocation (VARCHAR(255)), and foreign keys: .\n",
      "\n",
      "Table 'questions' has columns: questionid (INTEGER), question (VARCHAR(500)), topicid (INTEGER), and foreign keys: ['topicid'] -> topics.['topicid'].\n",
      "\n",
      "Table 'stratificationcategories' has columns: stratificationcategoryid (INTEGER), stratificationcategory (VARCHAR(255)), and foreign keys: .\n",
      "\n",
      "Table 'stratifications' has columns: stratificationid (INTEGER), stratification (VARCHAR(255)), stratificationcategoryid (INTEGER), and foreign keys: ['stratificationcategoryid'] -> stratificationcategories.['stratificationcategoryid'].\n",
      "\n",
      "Table 'surveydata' has columns: surveydataid (INTEGER), yearstart (INTEGER), yearend (INTEGER), locationid (INTEGER), datasourceid (INTEGER), questionid (INTEGER), datavalue (VARCHAR(100)), datavaluealt (NUMERIC), datavaluefootnotesymbol (VARCHAR(10)), datavaluefootnote (TEXT), lowconfidencelimit (NUMERIC), highconfidencelimit (NUMERIC), datatypeid (INTEGER), stratificationid (INTEGER), and foreign keys: ['datasourceid'] -> datasource.['datasourceid'], ['datatypeid'] -> datatypes.['datatypeid'], ['locationid'] -> locations.['locationid'], ['questionid'] -> questions.['questionid'], ['stratificationid'] -> stratifications.['stratificationid'].\n",
      "\n",
      "Table 'topics' has columns: topicid (INTEGER), topic (VARCHAR(255)), and foreign keys: .\n"
     ]
    },
    {
     "data": {
      "text/markdown": [
       "\n",
       "## Question\n",
       "\n",
       "What are some of the topics tracked in the dataset?\n",
       "\n",
       "## Answer\n",
       "```\n",
       "Some of the topics tracked in the dataset include Asthma, Cancer, Chronic Kidney Disease, Chronic Obstructive Pulmonary Disease, Cardiovascular Disease, Diabetes, Disability, Reproductive Health, Tobacco, and Alcohol.\n",
       "```\n",
       "## Generated SQL Query\n",
       "```\n",
       "SELECT topic FROM topics LIMIT 10;\n",
       "```\n"
      ],
      "text/plain": [
       "<IPython.core.display.Markdown object>"
      ]
     },
     "metadata": {},
     "output_type": "display_data"
    }
   ],
   "source": [
    "chat_to_sql(\"What are some of the topics tracked in the dataset?\")"
   ]
  },
  {
   "cell_type": "code",
   "execution_count": 14,
   "id": "90de14e3",
   "metadata": {},
   "outputs": [
    {
     "name": "stdout",
     "output_type": "stream",
     "text": [
      "INFO:llama_index.indices.struct_store.sql_retriever:> Table desc str: Table 'datasource' has columns: datasourceid (INTEGER), datasource (VARCHAR(255)), and foreign keys: .\n",
      "\n",
      "Table 'datatypes' has columns: datatypeid (INTEGER), datavaluetype (VARCHAR(100)), datavalueunit (VARCHAR(100)), and foreign keys: .\n",
      "\n",
      "Table 'locations' has columns: locationid (INTEGER), locationabbr (VARCHAR(10)), locationdesc (VARCHAR(255)), geolocation (VARCHAR(255)), and foreign keys: .\n",
      "\n",
      "Table 'questions' has columns: questionid (INTEGER), question (VARCHAR(500)), topicid (INTEGER), and foreign keys: ['topicid'] -> topics.['topicid'].\n",
      "\n",
      "Table 'stratificationcategories' has columns: stratificationcategoryid (INTEGER), stratificationcategory (VARCHAR(255)), and foreign keys: .\n",
      "\n",
      "Table 'stratifications' has columns: stratificationid (INTEGER), stratification (VARCHAR(255)), stratificationcategoryid (INTEGER), and foreign keys: ['stratificationcategoryid'] -> stratificationcategories.['stratificationcategoryid'].\n",
      "\n",
      "Table 'surveydata' has columns: surveydataid (INTEGER), yearstart (INTEGER), yearend (INTEGER), locationid (INTEGER), datasourceid (INTEGER), questionid (INTEGER), datavalue (VARCHAR(100)), datavaluealt (NUMERIC), datavaluefootnotesymbol (VARCHAR(10)), datavaluefootnote (TEXT), lowconfidencelimit (NUMERIC), highconfidencelimit (NUMERIC), datatypeid (INTEGER), stratificationid (INTEGER), and foreign keys: ['datasourceid'] -> datasource.['datasourceid'], ['datatypeid'] -> datatypes.['datatypeid'], ['locationid'] -> locations.['locationid'], ['questionid'] -> questions.['questionid'], ['stratificationid'] -> stratifications.['stratificationid'].\n",
      "\n",
      "Table 'topics' has columns: topicid (INTEGER), topic (VARCHAR(255)), and foreign keys: .\n",
      "> Table desc str: Table 'datasource' has columns: datasourceid (INTEGER), datasource (VARCHAR(255)), and foreign keys: .\n",
      "\n",
      "Table 'datatypes' has columns: datatypeid (INTEGER), datavaluetype (VARCHAR(100)), datavalueunit (VARCHAR(100)), and foreign keys: .\n",
      "\n",
      "Table 'locations' has columns: locationid (INTEGER), locationabbr (VARCHAR(10)), locationdesc (VARCHAR(255)), geolocation (VARCHAR(255)), and foreign keys: .\n",
      "\n",
      "Table 'questions' has columns: questionid (INTEGER), question (VARCHAR(500)), topicid (INTEGER), and foreign keys: ['topicid'] -> topics.['topicid'].\n",
      "\n",
      "Table 'stratificationcategories' has columns: stratificationcategoryid (INTEGER), stratificationcategory (VARCHAR(255)), and foreign keys: .\n",
      "\n",
      "Table 'stratifications' has columns: stratificationid (INTEGER), stratification (VARCHAR(255)), stratificationcategoryid (INTEGER), and foreign keys: ['stratificationcategoryid'] -> stratificationcategories.['stratificationcategoryid'].\n",
      "\n",
      "Table 'surveydata' has columns: surveydataid (INTEGER), yearstart (INTEGER), yearend (INTEGER), locationid (INTEGER), datasourceid (INTEGER), questionid (INTEGER), datavalue (VARCHAR(100)), datavaluealt (NUMERIC), datavaluefootnotesymbol (VARCHAR(10)), datavaluefootnote (TEXT), lowconfidencelimit (NUMERIC), highconfidencelimit (NUMERIC), datatypeid (INTEGER), stratificationid (INTEGER), and foreign keys: ['datasourceid'] -> datasource.['datasourceid'], ['datatypeid'] -> datatypes.['datatypeid'], ['locationid'] -> locations.['locationid'], ['questionid'] -> questions.['questionid'], ['stratificationid'] -> stratifications.['stratificationid'].\n",
      "\n",
      "Table 'topics' has columns: topicid (INTEGER), topic (VARCHAR(255)), and foreign keys: .\n"
     ]
    },
    {
     "data": {
      "text/markdown": [
       "\n",
       "## Question\n",
       "\n",
       "List Cancer related indicators available in the dataset\n",
       "\n",
       "## Answer\n",
       "```\n",
       "There are no cancer-related indicators available in the dataset.\n",
       "```\n",
       "## Generated SQL Query\n",
       "```\n",
       "SELECT DISTINCT questions.question \n",
       "FROM questions \n",
       "JOIN topics ON questions.topicid = topics.topicid \n",
       "WHERE topics.topic LIKE '%Cancer%'\n",
       "```\n"
      ],
      "text/plain": [
       "<IPython.core.display.Markdown object>"
      ]
     },
     "metadata": {},
     "output_type": "display_data"
    }
   ],
   "source": [
    "chat_to_sql('List Cancer related indicators available in the dataset')\n"
   ]
  },
  {
   "cell_type": "code",
   "execution_count": 15,
   "id": "f2b823eb",
   "metadata": {},
   "outputs": [
    {
     "name": "stdout",
     "output_type": "stream",
     "text": [
      "INFO:llama_index.indices.struct_store.sql_retriever:> Table desc str: Table 'datasource' has columns: datasourceid (INTEGER), datasource (VARCHAR(255)), and foreign keys: .\n",
      "\n",
      "Table 'datatypes' has columns: datatypeid (INTEGER), datavaluetype (VARCHAR(100)), datavalueunit (VARCHAR(100)), and foreign keys: .\n",
      "\n",
      "Table 'locations' has columns: locationid (INTEGER), locationabbr (VARCHAR(10)), locationdesc (VARCHAR(255)), geolocation (VARCHAR(255)), and foreign keys: .\n",
      "\n",
      "Table 'questions' has columns: questionid (INTEGER), question (VARCHAR(500)), topicid (INTEGER), and foreign keys: ['topicid'] -> topics.['topicid'].\n",
      "\n",
      "Table 'stratificationcategories' has columns: stratificationcategoryid (INTEGER), stratificationcategory (VARCHAR(255)), and foreign keys: .\n",
      "\n",
      "Table 'stratifications' has columns: stratificationid (INTEGER), stratification (VARCHAR(255)), stratificationcategoryid (INTEGER), and foreign keys: ['stratificationcategoryid'] -> stratificationcategories.['stratificationcategoryid'].\n",
      "\n",
      "Table 'surveydata' has columns: surveydataid (INTEGER), yearstart (INTEGER), yearend (INTEGER), locationid (INTEGER), datasourceid (INTEGER), questionid (INTEGER), datavalue (VARCHAR(100)), datavaluealt (NUMERIC), datavaluefootnotesymbol (VARCHAR(10)), datavaluefootnote (TEXT), lowconfidencelimit (NUMERIC), highconfidencelimit (NUMERIC), datatypeid (INTEGER), stratificationid (INTEGER), and foreign keys: ['datasourceid'] -> datasource.['datasourceid'], ['datatypeid'] -> datatypes.['datatypeid'], ['locationid'] -> locations.['locationid'], ['questionid'] -> questions.['questionid'], ['stratificationid'] -> stratifications.['stratificationid'].\n",
      "\n",
      "Table 'topics' has columns: topicid (INTEGER), topic (VARCHAR(255)), and foreign keys: .\n",
      "> Table desc str: Table 'datasource' has columns: datasourceid (INTEGER), datasource (VARCHAR(255)), and foreign keys: .\n",
      "\n",
      "Table 'datatypes' has columns: datatypeid (INTEGER), datavaluetype (VARCHAR(100)), datavalueunit (VARCHAR(100)), and foreign keys: .\n",
      "\n",
      "Table 'locations' has columns: locationid (INTEGER), locationabbr (VARCHAR(10)), locationdesc (VARCHAR(255)), geolocation (VARCHAR(255)), and foreign keys: .\n",
      "\n",
      "Table 'questions' has columns: questionid (INTEGER), question (VARCHAR(500)), topicid (INTEGER), and foreign keys: ['topicid'] -> topics.['topicid'].\n",
      "\n",
      "Table 'stratificationcategories' has columns: stratificationcategoryid (INTEGER), stratificationcategory (VARCHAR(255)), and foreign keys: .\n",
      "\n",
      "Table 'stratifications' has columns: stratificationid (INTEGER), stratification (VARCHAR(255)), stratificationcategoryid (INTEGER), and foreign keys: ['stratificationcategoryid'] -> stratificationcategories.['stratificationcategoryid'].\n",
      "\n",
      "Table 'surveydata' has columns: surveydataid (INTEGER), yearstart (INTEGER), yearend (INTEGER), locationid (INTEGER), datasourceid (INTEGER), questionid (INTEGER), datavalue (VARCHAR(100)), datavaluealt (NUMERIC), datavaluefootnotesymbol (VARCHAR(10)), datavaluefootnote (TEXT), lowconfidencelimit (NUMERIC), highconfidencelimit (NUMERIC), datatypeid (INTEGER), stratificationid (INTEGER), and foreign keys: ['datasourceid'] -> datasource.['datasourceid'], ['datatypeid'] -> datatypes.['datatypeid'], ['locationid'] -> locations.['locationid'], ['questionid'] -> questions.['questionid'], ['stratificationid'] -> stratifications.['stratificationid'].\n",
      "\n",
      "Table 'topics' has columns: topicid (INTEGER), topic (VARCHAR(255)), and foreign keys: .\n"
     ]
    },
    {
     "data": {
      "text/markdown": [
       "\n",
       "## Question\n",
       "\n",
       " List Cancer related Indicators for which there are data for the last year of any available data.\n",
       "    \n",
       "\n",
       "## Answer\n",
       "```\n",
       "There are no cancer-related indicators for which data is available for the most recent year.\n",
       "```\n",
       "## Generated SQL Query\n",
       "```\n",
       "SELECT DISTINCT questions.question \n",
       "FROM questions \n",
       "JOIN surveydata ON questions.questionid = surveydata.questionid \n",
       "JOIN topics ON questions.topicid = topics.topicid \n",
       "WHERE topics.topic LIKE '%Cancer%' \n",
       "AND surveydata.yearend = (SELECT MAX(yearend) FROM surveydata);\n",
       "```\n"
      ],
      "text/plain": [
       "<IPython.core.display.Markdown object>"
      ]
     },
     "metadata": {},
     "output_type": "display_data"
    }
   ],
   "source": [
    "chat_to_sql( \"\"\" List Cancer related Indicators for which there are data for the last year of any available data.\n",
    "    \"\"\")\n"
   ]
  },
  {
   "cell_type": "code",
   "execution_count": 16,
   "id": "7daf92cf",
   "metadata": {},
   "outputs": [
    {
     "name": "stdout",
     "output_type": "stream",
     "text": [
      "INFO:llama_index.indices.struct_store.sql_retriever:> Table desc str: Table 'datasource' has columns: datasourceid (INTEGER), datasource (VARCHAR(255)), and foreign keys: .\n",
      "\n",
      "Table 'datatypes' has columns: datatypeid (INTEGER), datavaluetype (VARCHAR(100)), datavalueunit (VARCHAR(100)), and foreign keys: .\n",
      "\n",
      "Table 'locations' has columns: locationid (INTEGER), locationabbr (VARCHAR(10)), locationdesc (VARCHAR(255)), geolocation (VARCHAR(255)), and foreign keys: .\n",
      "\n",
      "Table 'questions' has columns: questionid (INTEGER), question (VARCHAR(500)), topicid (INTEGER), and foreign keys: ['topicid'] -> topics.['topicid'].\n",
      "\n",
      "Table 'stratificationcategories' has columns: stratificationcategoryid (INTEGER), stratificationcategory (VARCHAR(255)), and foreign keys: .\n",
      "\n",
      "Table 'stratifications' has columns: stratificationid (INTEGER), stratification (VARCHAR(255)), stratificationcategoryid (INTEGER), and foreign keys: ['stratificationcategoryid'] -> stratificationcategories.['stratificationcategoryid'].\n",
      "\n",
      "Table 'surveydata' has columns: surveydataid (INTEGER), yearstart (INTEGER), yearend (INTEGER), locationid (INTEGER), datasourceid (INTEGER), questionid (INTEGER), datavalue (VARCHAR(100)), datavaluealt (NUMERIC), datavaluefootnotesymbol (VARCHAR(10)), datavaluefootnote (TEXT), lowconfidencelimit (NUMERIC), highconfidencelimit (NUMERIC), datatypeid (INTEGER), stratificationid (INTEGER), and foreign keys: ['datasourceid'] -> datasource.['datasourceid'], ['datatypeid'] -> datatypes.['datatypeid'], ['locationid'] -> locations.['locationid'], ['questionid'] -> questions.['questionid'], ['stratificationid'] -> stratifications.['stratificationid'].\n",
      "\n",
      "Table 'topics' has columns: topicid (INTEGER), topic (VARCHAR(255)), and foreign keys: .\n",
      "> Table desc str: Table 'datasource' has columns: datasourceid (INTEGER), datasource (VARCHAR(255)), and foreign keys: .\n",
      "\n",
      "Table 'datatypes' has columns: datatypeid (INTEGER), datavaluetype (VARCHAR(100)), datavalueunit (VARCHAR(100)), and foreign keys: .\n",
      "\n",
      "Table 'locations' has columns: locationid (INTEGER), locationabbr (VARCHAR(10)), locationdesc (VARCHAR(255)), geolocation (VARCHAR(255)), and foreign keys: .\n",
      "\n",
      "Table 'questions' has columns: questionid (INTEGER), question (VARCHAR(500)), topicid (INTEGER), and foreign keys: ['topicid'] -> topics.['topicid'].\n",
      "\n",
      "Table 'stratificationcategories' has columns: stratificationcategoryid (INTEGER), stratificationcategory (VARCHAR(255)), and foreign keys: .\n",
      "\n",
      "Table 'stratifications' has columns: stratificationid (INTEGER), stratification (VARCHAR(255)), stratificationcategoryid (INTEGER), and foreign keys: ['stratificationcategoryid'] -> stratificationcategories.['stratificationcategoryid'].\n",
      "\n",
      "Table 'surveydata' has columns: surveydataid (INTEGER), yearstart (INTEGER), yearend (INTEGER), locationid (INTEGER), datasourceid (INTEGER), questionid (INTEGER), datavalue (VARCHAR(100)), datavaluealt (NUMERIC), datavaluefootnotesymbol (VARCHAR(10)), datavaluefootnote (TEXT), lowconfidencelimit (NUMERIC), highconfidencelimit (NUMERIC), datatypeid (INTEGER), stratificationid (INTEGER), and foreign keys: ['datasourceid'] -> datasource.['datasourceid'], ['datatypeid'] -> datatypes.['datatypeid'], ['locationid'] -> locations.['locationid'], ['questionid'] -> questions.['questionid'], ['stratificationid'] -> stratifications.['stratificationid'].\n",
      "\n",
      "Table 'topics' has columns: topicid (INTEGER), topic (VARCHAR(255)), and foreign keys: .\n"
     ]
    },
    {
     "data": {
      "text/markdown": [
       "\n",
       "## Question\n",
       "\n",
       "How many diferent datatypes are in the dataset? I am interested in datatypes such as percent, Number etc..\n",
       "\n",
       "## Answer\n",
       "```\n",
       "There are 19 different data types in the dataset.\n",
       "```\n",
       "## Generated SQL Query\n",
       "```\n",
       "SELECT COUNT(DISTINCT datavaluetype) FROM datatypes;\n",
       "```\n"
      ],
      "text/plain": [
       "<IPython.core.display.Markdown object>"
      ]
     },
     "metadata": {},
     "output_type": "display_data"
    }
   ],
   "source": [
    "chat_to_sql( \"How many diferent datatypes are in the dataset? I am interested in datatypes such as percent, Number etc..\")"
   ]
  },
  {
   "cell_type": "code",
   "execution_count": 23,
   "id": "ec0b1e09",
   "metadata": {},
   "outputs": [
    {
     "name": "stdout",
     "output_type": "stream",
     "text": [
      "INFO:llama_index.indices.struct_store.sql_retriever:> Table desc str: Table 'datasource' has columns: datasourceid (INTEGER), datasource (VARCHAR(255)), and foreign keys: .\n",
      "\n",
      "Table 'datatypes' has columns: datatypeid (INTEGER), datavaluetype (VARCHAR(100)), datavalueunit (VARCHAR(100)), and foreign keys: .\n",
      "\n",
      "Table 'locations' has columns: locationid (INTEGER), locationabbr (VARCHAR(10)), locationdesc (VARCHAR(255)), geolocation (VARCHAR(255)), and foreign keys: .\n",
      "\n",
      "Table 'questions' has columns: questionid (INTEGER), question (VARCHAR(500)), topicid (INTEGER), and foreign keys: ['topicid'] -> topics.['topicid'].\n",
      "\n",
      "Table 'stratificationcategories' has columns: stratificationcategoryid (INTEGER), stratificationcategory (VARCHAR(255)), and foreign keys: .\n",
      "\n",
      "Table 'stratifications' has columns: stratificationid (INTEGER), stratification (VARCHAR(255)), stratificationcategoryid (INTEGER), and foreign keys: ['stratificationcategoryid'] -> stratificationcategories.['stratificationcategoryid'].\n",
      "\n",
      "Table 'surveydata' has columns: surveydataid (INTEGER), yearstart (INTEGER), yearend (INTEGER), locationid (INTEGER), datasourceid (INTEGER), questionid (INTEGER), datavalue (VARCHAR(100)), datavaluealt (NUMERIC), datavaluefootnotesymbol (VARCHAR(10)), datavaluefootnote (TEXT), lowconfidencelimit (NUMERIC), highconfidencelimit (NUMERIC), datatypeid (INTEGER), stratificationid (INTEGER), and foreign keys: ['datasourceid'] -> datasource.['datasourceid'], ['datatypeid'] -> datatypes.['datatypeid'], ['locationid'] -> locations.['locationid'], ['questionid'] -> questions.['questionid'], ['stratificationid'] -> stratifications.['stratificationid'].\n",
      "\n",
      "Table 'topics' has columns: topicid (INTEGER), topic (VARCHAR(255)), and foreign keys: .\n",
      "> Table desc str: Table 'datasource' has columns: datasourceid (INTEGER), datasource (VARCHAR(255)), and foreign keys: .\n",
      "\n",
      "Table 'datatypes' has columns: datatypeid (INTEGER), datavaluetype (VARCHAR(100)), datavalueunit (VARCHAR(100)), and foreign keys: .\n",
      "\n",
      "Table 'locations' has columns: locationid (INTEGER), locationabbr (VARCHAR(10)), locationdesc (VARCHAR(255)), geolocation (VARCHAR(255)), and foreign keys: .\n",
      "\n",
      "Table 'questions' has columns: questionid (INTEGER), question (VARCHAR(500)), topicid (INTEGER), and foreign keys: ['topicid'] -> topics.['topicid'].\n",
      "\n",
      "Table 'stratificationcategories' has columns: stratificationcategoryid (INTEGER), stratificationcategory (VARCHAR(255)), and foreign keys: .\n",
      "\n",
      "Table 'stratifications' has columns: stratificationid (INTEGER), stratification (VARCHAR(255)), stratificationcategoryid (INTEGER), and foreign keys: ['stratificationcategoryid'] -> stratificationcategories.['stratificationcategoryid'].\n",
      "\n",
      "Table 'surveydata' has columns: surveydataid (INTEGER), yearstart (INTEGER), yearend (INTEGER), locationid (INTEGER), datasourceid (INTEGER), questionid (INTEGER), datavalue (VARCHAR(100)), datavaluealt (NUMERIC), datavaluefootnotesymbol (VARCHAR(10)), datavaluefootnote (TEXT), lowconfidencelimit (NUMERIC), highconfidencelimit (NUMERIC), datatypeid (INTEGER), stratificationid (INTEGER), and foreign keys: ['datasourceid'] -> datasource.['datasourceid'], ['datatypeid'] -> datatypes.['datatypeid'], ['locationid'] -> locations.['locationid'], ['questionid'] -> questions.['questionid'], ['stratificationid'] -> stratifications.['stratificationid'].\n",
      "\n",
      "Table 'topics' has columns: topicid (INTEGER), topic (VARCHAR(255)), and foreign keys: .\n"
     ]
    },
    {
     "data": {
      "text/markdown": [
       "\n",
       "## Question\n",
       "\n",
       " What is the mean value for indicator \"Fecal occult blood test, sigmoidoscopy, or colonoscopy among adults aged 50-75 years\" in the last year of available data? Provide answer for Overall stratification group.\n",
       "    \n",
       "\n",
       "## Answer\n",
       "```\n",
       "The data for the mean value of the indicator \"Fecal occult blood test, sigmoidoscopy, or colonoscopy among adults aged 50-75 years\" for the 'Overall' stratification group in the last year of available data is not available.\n",
       "```\n",
       "## Generated SQL Query\n",
       "```\n",
       "SELECT AVG(surveydata.datavaluealt) AS mean_value\n",
       "FROM surveydata\n",
       "JOIN questions ON surveydata.questionid = questions.questionid\n",
       "JOIN stratifications ON surveydata.stratificationid = stratifications.stratificationid\n",
       "WHERE questions.question = 'Fecal occult blood test, sigmoidoscopy, or colonoscopy among adults aged 50-75 years'\n",
       "AND stratifications.stratification = 'Overall'\n",
       "AND surveydata.yearend = (SELECT MAX(yearend) FROM surveydata);\n",
       "```\n"
      ],
      "text/plain": [
       "<IPython.core.display.Markdown object>"
      ]
     },
     "metadata": {},
     "output_type": "display_data"
    }
   ],
   "source": [
    "question = \"\"\" What is the mean value for indicator \"Fecal occult blood test, sigmoidoscopy, or colonoscopy among adults aged 50-75 years\" in the last year of available data? Provide answer for Overall stratification group.\n",
    "    \"\"\"\n",
    "\n",
    "\n",
    "chat_to_sql(question)"
   ]
  },
  {
   "cell_type": "code",
   "execution_count": 24,
   "id": "a1481240-ca17-40df-8c1c-716213e3b00a",
   "metadata": {},
   "outputs": [
    {
     "name": "stdout",
     "output_type": "stream",
     "text": [
      "INFO:llama_index.indices.struct_store.sql_retriever:> Table desc str: Table 'datasource' has columns: datasourceid (INTEGER), datasource (VARCHAR(255)), and foreign keys: .\n",
      "\n",
      "Table 'datatypes' has columns: datatypeid (INTEGER), datavaluetype (VARCHAR(100)), datavalueunit (VARCHAR(100)), and foreign keys: .\n",
      "\n",
      "Table 'locations' has columns: locationid (INTEGER), locationabbr (VARCHAR(10)), locationdesc (VARCHAR(255)), geolocation (VARCHAR(255)), and foreign keys: .\n",
      "\n",
      "Table 'questions' has columns: questionid (INTEGER), question (VARCHAR(500)), topicid (INTEGER), and foreign keys: ['topicid'] -> topics.['topicid'].\n",
      "\n",
      "Table 'stratificationcategories' has columns: stratificationcategoryid (INTEGER), stratificationcategory (VARCHAR(255)), and foreign keys: .\n",
      "\n",
      "Table 'stratifications' has columns: stratificationid (INTEGER), stratification (VARCHAR(255)), stratificationcategoryid (INTEGER), and foreign keys: ['stratificationcategoryid'] -> stratificationcategories.['stratificationcategoryid'].\n",
      "\n",
      "Table 'surveydata' has columns: surveydataid (INTEGER), yearstart (INTEGER), yearend (INTEGER), locationid (INTEGER), datasourceid (INTEGER), questionid (INTEGER), datavalue (VARCHAR(100)), datavaluealt (NUMERIC), datavaluefootnotesymbol (VARCHAR(10)), datavaluefootnote (TEXT), lowconfidencelimit (NUMERIC), highconfidencelimit (NUMERIC), datatypeid (INTEGER), stratificationid (INTEGER), and foreign keys: ['datasourceid'] -> datasource.['datasourceid'], ['datatypeid'] -> datatypes.['datatypeid'], ['locationid'] -> locations.['locationid'], ['questionid'] -> questions.['questionid'], ['stratificationid'] -> stratifications.['stratificationid'].\n",
      "\n",
      "Table 'topics' has columns: topicid (INTEGER), topic (VARCHAR(255)), and foreign keys: .\n",
      "> Table desc str: Table 'datasource' has columns: datasourceid (INTEGER), datasource (VARCHAR(255)), and foreign keys: .\n",
      "\n",
      "Table 'datatypes' has columns: datatypeid (INTEGER), datavaluetype (VARCHAR(100)), datavalueunit (VARCHAR(100)), and foreign keys: .\n",
      "\n",
      "Table 'locations' has columns: locationid (INTEGER), locationabbr (VARCHAR(10)), locationdesc (VARCHAR(255)), geolocation (VARCHAR(255)), and foreign keys: .\n",
      "\n",
      "Table 'questions' has columns: questionid (INTEGER), question (VARCHAR(500)), topicid (INTEGER), and foreign keys: ['topicid'] -> topics.['topicid'].\n",
      "\n",
      "Table 'stratificationcategories' has columns: stratificationcategoryid (INTEGER), stratificationcategory (VARCHAR(255)), and foreign keys: .\n",
      "\n",
      "Table 'stratifications' has columns: stratificationid (INTEGER), stratification (VARCHAR(255)), stratificationcategoryid (INTEGER), and foreign keys: ['stratificationcategoryid'] -> stratificationcategories.['stratificationcategoryid'].\n",
      "\n",
      "Table 'surveydata' has columns: surveydataid (INTEGER), yearstart (INTEGER), yearend (INTEGER), locationid (INTEGER), datasourceid (INTEGER), questionid (INTEGER), datavalue (VARCHAR(100)), datavaluealt (NUMERIC), datavaluefootnotesymbol (VARCHAR(10)), datavaluefootnote (TEXT), lowconfidencelimit (NUMERIC), highconfidencelimit (NUMERIC), datatypeid (INTEGER), stratificationid (INTEGER), and foreign keys: ['datasourceid'] -> datasource.['datasourceid'], ['datatypeid'] -> datatypes.['datatypeid'], ['locationid'] -> locations.['locationid'], ['questionid'] -> questions.['questionid'], ['stratificationid'] -> stratifications.['stratificationid'].\n",
      "\n",
      "Table 'topics' has columns: topicid (INTEGER), topic (VARCHAR(255)), and foreign keys: .\n"
     ]
    },
    {
     "data": {
      "text/markdown": [
       "\n",
       "## Question\n",
       "\n",
       " What is the value for \"Cancer of the female breast, mortality\" in Wisconsin. Provide answer for Overall stratification group.\n",
       "    \n",
       "\n",
       "## Answer\n",
       "```\n",
       "There is no available data for \"Cancer of the female breast, mortality\" in the overall stratification group for Wisconsin.\n",
       "```\n",
       "## Generated SQL Query\n",
       "```\n",
       "SELECT surveydata.datavalue, surveydata.yearstart, surveydata.yearend\n",
       "FROM surveydata\n",
       "JOIN questions ON surveydata.questionid = questions.questionid\n",
       "JOIN locations ON surveydata.locationid = locations.locationid\n",
       "JOIN stratifications ON surveydata.stratificationid = stratifications.stratificationid\n",
       "WHERE questions.question = 'Cancer of the female breast, mortality'\n",
       "AND locations.locationdesc = 'Wisconsin'\n",
       "AND stratifications.stratification = 'Overall'\n",
       "ORDER BY surveydata.yearstart DESC;\n",
       "```\n"
      ],
      "text/plain": [
       "<IPython.core.display.Markdown object>"
      ]
     },
     "metadata": {},
     "output_type": "display_data"
    }
   ],
   "source": [
    "question = \"\"\" What is the value for \"Cancer of the female breast, mortality\" in Wisconsin. Provide answer for Overall stratification group.\n",
    "    \"\"\"\n",
    "\n",
    "\n",
    "chat_to_sql(question)"
   ]
  },
  {
   "cell_type": "code",
   "execution_count": 25,
   "id": "fe2b07ef-d94a-49e8-9da5-7338381959b8",
   "metadata": {},
   "outputs": [
    {
     "name": "stdout",
     "output_type": "stream",
     "text": [
      "INFO:llama_index.indices.struct_store.sql_retriever:> Table desc str: Table 'datasource' has columns: datasourceid (INTEGER), datasource (VARCHAR(255)), and foreign keys: .\n",
      "\n",
      "Table 'datatypes' has columns: datatypeid (INTEGER), datavaluetype (VARCHAR(100)), datavalueunit (VARCHAR(100)), and foreign keys: .\n",
      "\n",
      "Table 'locations' has columns: locationid (INTEGER), locationabbr (VARCHAR(10)), locationdesc (VARCHAR(255)), geolocation (VARCHAR(255)), and foreign keys: .\n",
      "\n",
      "Table 'questions' has columns: questionid (INTEGER), question (VARCHAR(500)), topicid (INTEGER), and foreign keys: ['topicid'] -> topics.['topicid'].\n",
      "\n",
      "Table 'stratificationcategories' has columns: stratificationcategoryid (INTEGER), stratificationcategory (VARCHAR(255)), and foreign keys: .\n",
      "\n",
      "Table 'stratifications' has columns: stratificationid (INTEGER), stratification (VARCHAR(255)), stratificationcategoryid (INTEGER), and foreign keys: ['stratificationcategoryid'] -> stratificationcategories.['stratificationcategoryid'].\n",
      "\n",
      "Table 'surveydata' has columns: surveydataid (INTEGER), yearstart (INTEGER), yearend (INTEGER), locationid (INTEGER), datasourceid (INTEGER), questionid (INTEGER), datavalue (VARCHAR(100)), datavaluealt (NUMERIC), datavaluefootnotesymbol (VARCHAR(10)), datavaluefootnote (TEXT), lowconfidencelimit (NUMERIC), highconfidencelimit (NUMERIC), datatypeid (INTEGER), stratificationid (INTEGER), and foreign keys: ['datasourceid'] -> datasource.['datasourceid'], ['datatypeid'] -> datatypes.['datatypeid'], ['locationid'] -> locations.['locationid'], ['questionid'] -> questions.['questionid'], ['stratificationid'] -> stratifications.['stratificationid'].\n",
      "\n",
      "Table 'topics' has columns: topicid (INTEGER), topic (VARCHAR(255)), and foreign keys: .\n",
      "> Table desc str: Table 'datasource' has columns: datasourceid (INTEGER), datasource (VARCHAR(255)), and foreign keys: .\n",
      "\n",
      "Table 'datatypes' has columns: datatypeid (INTEGER), datavaluetype (VARCHAR(100)), datavalueunit (VARCHAR(100)), and foreign keys: .\n",
      "\n",
      "Table 'locations' has columns: locationid (INTEGER), locationabbr (VARCHAR(10)), locationdesc (VARCHAR(255)), geolocation (VARCHAR(255)), and foreign keys: .\n",
      "\n",
      "Table 'questions' has columns: questionid (INTEGER), question (VARCHAR(500)), topicid (INTEGER), and foreign keys: ['topicid'] -> topics.['topicid'].\n",
      "\n",
      "Table 'stratificationcategories' has columns: stratificationcategoryid (INTEGER), stratificationcategory (VARCHAR(255)), and foreign keys: .\n",
      "\n",
      "Table 'stratifications' has columns: stratificationid (INTEGER), stratification (VARCHAR(255)), stratificationcategoryid (INTEGER), and foreign keys: ['stratificationcategoryid'] -> stratificationcategories.['stratificationcategoryid'].\n",
      "\n",
      "Table 'surveydata' has columns: surveydataid (INTEGER), yearstart (INTEGER), yearend (INTEGER), locationid (INTEGER), datasourceid (INTEGER), questionid (INTEGER), datavalue (VARCHAR(100)), datavaluealt (NUMERIC), datavaluefootnotesymbol (VARCHAR(10)), datavaluefootnote (TEXT), lowconfidencelimit (NUMERIC), highconfidencelimit (NUMERIC), datatypeid (INTEGER), stratificationid (INTEGER), and foreign keys: ['datasourceid'] -> datasource.['datasourceid'], ['datatypeid'] -> datatypes.['datatypeid'], ['locationid'] -> locations.['locationid'], ['questionid'] -> questions.['questionid'], ['stratificationid'] -> stratifications.['stratificationid'].\n",
      "\n",
      "Table 'topics' has columns: topicid (INTEGER), topic (VARCHAR(255)), and foreign keys: .\n"
     ]
    },
    {
     "data": {
      "text/markdown": [
       "\n",
       "## Question\n",
       "\n",
       "Which state has the worst values for \"Cancer of the female breast, mortality\" for the last year of available data for that particular indicator. Where does it rank in Poverty indicator among states? Provide answer for Overall stratification group.\n",
       "\n",
       "## Answer\n",
       "```\n",
       "I'm sorry, but the SQL query provided is invalid and therefore I cannot provide the requested information.\n",
       "```\n",
       "## Generated SQL Query\n",
       "```\n",
       "SELECT COUNT(*)+1 AS rank \n",
       "FROM (\n",
       "    SELECT surveydata.datavalue \n",
       "    FROM surveydata \n",
       "    JOIN questions ON surveydata.questionid = questions.questionid \n",
       "    JOIN locations ON surveydata.locationid = locations.locationid \n",
       "    JOIN stratifications ON surveydata.stratificationid = stratifications.stratificationid \n",
       "    WHERE questions.question = 'Poverty' \n",
       "    AND stratifications.stratification = 'Overall' \n",
       "    AND surveydata.yearstart = 2019 \n",
       "    AND locations.locationdesc != 'Mississippi' \n",
       "    ORDER BY surveydata.datavalue DESC\n",
       ") AS subquery \n",
       "WHERE datavalue > 30.5;\n",
       "```\n"
      ],
      "text/plain": [
       "<IPython.core.display.Markdown object>"
      ]
     },
     "metadata": {},
     "output_type": "display_data"
    }
   ],
   "source": [
    "question = 'Which state has the worst values for \"Cancer of the female breast, mortality\" for the last year of available data for that particular indicator. Where does it rank in Poverty indicator among states? Provide answer for Overall stratification group.'\n",
    "\n",
    "chat_to_sql(question)"
   ]
  },
  {
   "cell_type": "code",
   "execution_count": 26,
   "id": "b5964ea1-b101-4960-8323-661031ed633c",
   "metadata": {},
   "outputs": [
    {
     "name": "stdout",
     "output_type": "stream",
     "text": [
      "INFO:llama_index.indices.struct_store.sql_retriever:> Table desc str: Table 'datasource' has columns: datasourceid (INTEGER), datasource (VARCHAR(255)), and foreign keys: .\n",
      "\n",
      "Table 'datatypes' has columns: datatypeid (INTEGER), datavaluetype (VARCHAR(100)), datavalueunit (VARCHAR(100)), and foreign keys: .\n",
      "\n",
      "Table 'locations' has columns: locationid (INTEGER), locationabbr (VARCHAR(10)), locationdesc (VARCHAR(255)), geolocation (VARCHAR(255)), and foreign keys: .\n",
      "\n",
      "Table 'questions' has columns: questionid (INTEGER), question (VARCHAR(500)), topicid (INTEGER), and foreign keys: ['topicid'] -> topics.['topicid'].\n",
      "\n",
      "Table 'stratificationcategories' has columns: stratificationcategoryid (INTEGER), stratificationcategory (VARCHAR(255)), and foreign keys: .\n",
      "\n",
      "Table 'stratifications' has columns: stratificationid (INTEGER), stratification (VARCHAR(255)), stratificationcategoryid (INTEGER), and foreign keys: ['stratificationcategoryid'] -> stratificationcategories.['stratificationcategoryid'].\n",
      "\n",
      "Table 'surveydata' has columns: surveydataid (INTEGER), yearstart (INTEGER), yearend (INTEGER), locationid (INTEGER), datasourceid (INTEGER), questionid (INTEGER), datavalue (VARCHAR(100)), datavaluealt (NUMERIC), datavaluefootnotesymbol (VARCHAR(10)), datavaluefootnote (TEXT), lowconfidencelimit (NUMERIC), highconfidencelimit (NUMERIC), datatypeid (INTEGER), stratificationid (INTEGER), and foreign keys: ['datasourceid'] -> datasource.['datasourceid'], ['datatypeid'] -> datatypes.['datatypeid'], ['locationid'] -> locations.['locationid'], ['questionid'] -> questions.['questionid'], ['stratificationid'] -> stratifications.['stratificationid'].\n",
      "\n",
      "Table 'topics' has columns: topicid (INTEGER), topic (VARCHAR(255)), and foreign keys: .\n",
      "> Table desc str: Table 'datasource' has columns: datasourceid (INTEGER), datasource (VARCHAR(255)), and foreign keys: .\n",
      "\n",
      "Table 'datatypes' has columns: datatypeid (INTEGER), datavaluetype (VARCHAR(100)), datavalueunit (VARCHAR(100)), and foreign keys: .\n",
      "\n",
      "Table 'locations' has columns: locationid (INTEGER), locationabbr (VARCHAR(10)), locationdesc (VARCHAR(255)), geolocation (VARCHAR(255)), and foreign keys: .\n",
      "\n",
      "Table 'questions' has columns: questionid (INTEGER), question (VARCHAR(500)), topicid (INTEGER), and foreign keys: ['topicid'] -> topics.['topicid'].\n",
      "\n",
      "Table 'stratificationcategories' has columns: stratificationcategoryid (INTEGER), stratificationcategory (VARCHAR(255)), and foreign keys: .\n",
      "\n",
      "Table 'stratifications' has columns: stratificationid (INTEGER), stratification (VARCHAR(255)), stratificationcategoryid (INTEGER), and foreign keys: ['stratificationcategoryid'] -> stratificationcategories.['stratificationcategoryid'].\n",
      "\n",
      "Table 'surveydata' has columns: surveydataid (INTEGER), yearstart (INTEGER), yearend (INTEGER), locationid (INTEGER), datasourceid (INTEGER), questionid (INTEGER), datavalue (VARCHAR(100)), datavaluealt (NUMERIC), datavaluefootnotesymbol (VARCHAR(10)), datavaluefootnote (TEXT), lowconfidencelimit (NUMERIC), highconfidencelimit (NUMERIC), datatypeid (INTEGER), stratificationid (INTEGER), and foreign keys: ['datasourceid'] -> datasource.['datasourceid'], ['datatypeid'] -> datatypes.['datatypeid'], ['locationid'] -> locations.['locationid'], ['questionid'] -> questions.['questionid'], ['stratificationid'] -> stratifications.['stratificationid'].\n",
      "\n",
      "Table 'topics' has columns: topicid (INTEGER), topic (VARCHAR(255)), and foreign keys: .\n"
     ]
    },
    {
     "data": {
      "text/markdown": [
       "\n",
       "## Question\n",
       "\n",
       "How does \"Hospitalizations for Asthma\" indicator corelate with \"Sale of cigarette packs\" Provide answer for Overall stratification group.\n",
       "\n",
       "\n",
       "## Answer\n",
       "```\n",
       "The data does not provide any correlation between the \"Hospitalizations for Asthma\" indicator and the \"Sale of cigarette packs\" for the Overall stratification group.\n",
       "```\n",
       "## Generated SQL Query\n",
       "```\n",
       "SELECT surveydata.datavalue, questions.question, stratifications.stratification\n",
       "FROM surveydata\n",
       "JOIN questions ON surveydata.questionid = questions.questionid\n",
       "JOIN stratifications ON surveydata.stratificationid = stratifications.stratificationid\n",
       "WHERE questions.question IN ('Hospitalizations for Asthma', 'Sale of cigarette packs') AND stratifications.stratification = 'Overall'\n",
       "ORDER BY surveydata.datavalue DESC;\n",
       "```\n"
      ],
      "text/plain": [
       "<IPython.core.display.Markdown object>"
      ]
     },
     "metadata": {},
     "output_type": "display_data"
    }
   ],
   "source": [
    "question = \"\"\"How does \"Hospitalizations for Asthma\" indicator corelate with \"Sale of cigarette packs\" Provide answer for Overall stratification group.\n",
    "\"\"\"\n",
    "chat_to_sql(question)"
   ]
  },
  {
   "cell_type": "code",
   "execution_count": 27,
   "id": "adac1054-e2b9-4e91-9b49-f33087dc1ecb",
   "metadata": {},
   "outputs": [
    {
     "name": "stdout",
     "output_type": "stream",
     "text": [
      "INFO:llama_index.indices.struct_store.sql_retriever:> Table desc str: Table 'datasource' has columns: datasourceid (INTEGER), datasource (VARCHAR(255)), and foreign keys: .\n",
      "\n",
      "Table 'datatypes' has columns: datatypeid (INTEGER), datavaluetype (VARCHAR(100)), datavalueunit (VARCHAR(100)), and foreign keys: .\n",
      "\n",
      "Table 'locations' has columns: locationid (INTEGER), locationabbr (VARCHAR(10)), locationdesc (VARCHAR(255)), geolocation (VARCHAR(255)), and foreign keys: .\n",
      "\n",
      "Table 'questions' has columns: questionid (INTEGER), question (VARCHAR(500)), topicid (INTEGER), and foreign keys: ['topicid'] -> topics.['topicid'].\n",
      "\n",
      "Table 'stratificationcategories' has columns: stratificationcategoryid (INTEGER), stratificationcategory (VARCHAR(255)), and foreign keys: .\n",
      "\n",
      "Table 'stratifications' has columns: stratificationid (INTEGER), stratification (VARCHAR(255)), stratificationcategoryid (INTEGER), and foreign keys: ['stratificationcategoryid'] -> stratificationcategories.['stratificationcategoryid'].\n",
      "\n",
      "Table 'surveydata' has columns: surveydataid (INTEGER), yearstart (INTEGER), yearend (INTEGER), locationid (INTEGER), datasourceid (INTEGER), questionid (INTEGER), datavalue (VARCHAR(100)), datavaluealt (NUMERIC), datavaluefootnotesymbol (VARCHAR(10)), datavaluefootnote (TEXT), lowconfidencelimit (NUMERIC), highconfidencelimit (NUMERIC), datatypeid (INTEGER), stratificationid (INTEGER), and foreign keys: ['datasourceid'] -> datasource.['datasourceid'], ['datatypeid'] -> datatypes.['datatypeid'], ['locationid'] -> locations.['locationid'], ['questionid'] -> questions.['questionid'], ['stratificationid'] -> stratifications.['stratificationid'].\n",
      "\n",
      "Table 'topics' has columns: topicid (INTEGER), topic (VARCHAR(255)), and foreign keys: .\n",
      "> Table desc str: Table 'datasource' has columns: datasourceid (INTEGER), datasource (VARCHAR(255)), and foreign keys: .\n",
      "\n",
      "Table 'datatypes' has columns: datatypeid (INTEGER), datavaluetype (VARCHAR(100)), datavalueunit (VARCHAR(100)), and foreign keys: .\n",
      "\n",
      "Table 'locations' has columns: locationid (INTEGER), locationabbr (VARCHAR(10)), locationdesc (VARCHAR(255)), geolocation (VARCHAR(255)), and foreign keys: .\n",
      "\n",
      "Table 'questions' has columns: questionid (INTEGER), question (VARCHAR(500)), topicid (INTEGER), and foreign keys: ['topicid'] -> topics.['topicid'].\n",
      "\n",
      "Table 'stratificationcategories' has columns: stratificationcategoryid (INTEGER), stratificationcategory (VARCHAR(255)), and foreign keys: .\n",
      "\n",
      "Table 'stratifications' has columns: stratificationid (INTEGER), stratification (VARCHAR(255)), stratificationcategoryid (INTEGER), and foreign keys: ['stratificationcategoryid'] -> stratificationcategories.['stratificationcategoryid'].\n",
      "\n",
      "Table 'surveydata' has columns: surveydataid (INTEGER), yearstart (INTEGER), yearend (INTEGER), locationid (INTEGER), datasourceid (INTEGER), questionid (INTEGER), datavalue (VARCHAR(100)), datavaluealt (NUMERIC), datavaluefootnotesymbol (VARCHAR(10)), datavaluefootnote (TEXT), lowconfidencelimit (NUMERIC), highconfidencelimit (NUMERIC), datatypeid (INTEGER), stratificationid (INTEGER), and foreign keys: ['datasourceid'] -> datasource.['datasourceid'], ['datatypeid'] -> datatypes.['datatypeid'], ['locationid'] -> locations.['locationid'], ['questionid'] -> questions.['questionid'], ['stratificationid'] -> stratifications.['stratificationid'].\n",
      "\n",
      "Table 'topics' has columns: topicid (INTEGER), topic (VARCHAR(255)), and foreign keys: .\n"
     ]
    },
    {
     "data": {
      "text/markdown": [
       "\n",
       "## Question\n",
       "\n",
       "Find the pair of Indicators with the highest correlation\n",
       "\n",
       "\n",
       "## Answer\n",
       "```\n",
       "I'm sorry, but the SQL statement provided is invalid and cannot be executed. Please check the syntax and try again.\n",
       "```\n",
       "## Generated SQL Query\n",
       "```\n",
       "SELECT s1.datavalue AS datavalue1, s2.datavalue AS datavalue2, corr(s1.datavaluealt, s2.datavaluealt) AS correlation\n",
       "FROM surveydata s1\n",
       "JOIN surveydata s2 ON s1.yearstart = s2.yearstart AND s1.yearend = s2.yearend AND s1.locationid = s2.locationid\n",
       "WHERE s1.questionid <> s2.questionid\n",
       "ORDER BY correlation DESC\n",
       "LIMIT 1;\n",
       "```\n"
      ],
      "text/plain": [
       "<IPython.core.display.Markdown object>"
      ]
     },
     "metadata": {},
     "output_type": "display_data"
    }
   ],
   "source": [
    "question = \"\"\"Find the pair of Indicators with the highest correlation\n",
    "\"\"\"\n",
    "\n",
    "chat_to_sql(question)"
   ]
  },
  {
   "cell_type": "code",
   "execution_count": 24,
   "id": "ff78330a-4d05-4059-86ed-01c9d5fd994d",
   "metadata": {},
   "outputs": [],
   "source": [
    "###########################################################################################################################################"
   ]
  },
  {
   "cell_type": "markdown",
   "id": "0425be73-29c0-448b-9ccf-711ca9ad3820",
   "metadata": {},
   "source": [
    "### Build Vector Index"
   ]
  },
  {
   "cell_type": "code",
   "execution_count": 20,
   "id": "e8a7d81f",
   "metadata": {},
   "outputs": [],
   "source": [
    "from llmsherpa.readers import LayoutPDFReader\n",
    "\n",
    "llmsherpa_api_url = \"https://readers.llmsherpa.com/api/document/developer/parseDocument?renderFormat=all\"\n",
    "pdf_url = \"https://www.cdc.gov/mmwr/pdf/rr/rr6401.pdf\" # also allowed is a file path e.g. /home/downloads/xyz.pdf\n",
    "pdf_reader = LayoutPDFReader(llmsherpa_api_url)\n",
    "doc = pdf_reader.read_pdf(pdf_url)"
   ]
  },
  {
   "cell_type": "code",
   "execution_count": 22,
   "id": "af6b0441",
   "metadata": {},
   "outputs": [],
   "source": [
    "from llama_index.readers.schema.base import Document\n",
    "from llama_index import VectorStoreIndex\n",
    "\n",
    "vector_index = VectorStoreIndex([])\n",
    "for chunk in doc.chunks():\n",
    "    vector_index.insert(Document(text=chunk.to_context_text(), extra_info={}))\n",
    "query_engine = vector_index.as_query_engine()\n",
    "\n",
    "# Let's run one query\n",
    "# response = query_engine.query(\"tell me about background and rationale for cdc`s chronic disease indicators?\")\n",
    "# print(response)"
   ]
  },
  {
   "cell_type": "markdown",
   "id": "562a8711-9202-41da-bbef-2fb91302ee6a",
   "metadata": {},
   "source": [
    "Lets query the pdf document and see if we can get any answers at all to check if the code is working."
   ]
  },
  {
   "cell_type": "code",
   "execution_count": 23,
   "id": "37ae7be7",
   "metadata": {},
   "outputs": [
    {
     "name": "stdout",
     "output_type": "stream",
     "text": [
      "The rationale behind chronic disease indicators is to provide a comprehensive set of surveillance indicators that can be used by public health professionals and policymakers to retrieve data for chronic diseases and risk factors. These indicators are essential for surveillance, prioritization, and evaluation of public health interventions for chronic disease. The chronic disease indicators were established to address the important public health problem of chronic diseases, which can result in morbidity, mortality, disability, and decreased quality of life. The indicators are developed through collaboration among CDC, the Council of State and Territorial Epidemiologists, and the National Association of Chronic Disease Directors, and are based on a comprehensive review to ensure they capture high-impact diseases and conditions as well as emerging topics.\n"
     ]
    }
   ],
   "source": [
    "response = query_engine.query(\"Tell me something about the rationale behind chronic disease indicators.\")\n",
    "print(response)"
   ]
  },
  {
   "cell_type": "markdown",
   "id": "2a2afbc8-4e86-4a33-a192-7037f41c4ee4",
   "metadata": {},
   "source": [
    "## Putting it all together"
   ]
  },
  {
   "cell_type": "code",
   "execution_count": 25,
   "id": "cfda3ddf-8daa-4403-bab9-fde82af5e168",
   "metadata": {},
   "outputs": [],
   "source": [
    "from llama_index.tools.query_engine import QueryEngineTool\n",
    "from llama_index.query_engine import SQLAutoVectorQueryEngine\n",
    "from llama_index.indices.vector_store.retrievers import VectorIndexAutoRetriever\n",
    "\n",
    "from llama_index.vector_stores.types import MetadataInfo, VectorStoreInfo\n",
    "from llama_index.query_engine.retriever_query_engine import RetrieverQueryEngine"
   ]
  },
  {
   "cell_type": "code",
   "execution_count": 31,
   "id": "bbf61394-4aaf-4fd2-b113-bdc1f8919683",
   "metadata": {},
   "outputs": [],
   "source": [
    "\n",
    "\n",
    "\n",
    "vector_store_info = VectorStoreInfo(\n",
    "    content_info=\"report from 2015 about the program of gathering chronic disease indiocators and state of those inidcators across the united states\",\n",
    "    metadata_info=[\n",
    "        MetadataInfo(\n",
    "            name=\"chronic disease indicator\", type=\"str\", description=\"\"\n",
    "        ),\n",
    "    ],\n",
    ")\n",
    "vector_auto_retriever = VectorIndexAutoRetriever(\n",
    "    vector_index, vector_store_info=vector_store_info\n",
    ")\n",
    "\n",
    "retriever_query_engine = RetrieverQueryEngine.from_args(\n",
    "    vector_auto_retriever, service_context=service_context\n",
    ")"
   ]
  },
  {
   "cell_type": "code",
   "execution_count": 32,
   "id": "4b57a77f-821b-4402-97f1-07ad5087d09e",
   "metadata": {},
   "outputs": [],
   "source": [
    "sql_tool = QueryEngineTool.from_defaults(\n",
    "    query_engine=sql_query_engine,\n",
    "    description=(\n",
    "        \"Useful for translating a natural language query into a SQL query over\"\n",
    "        \" a table containing: chronic disease indicator data\"\n",
    "    ),\n",
    ")\n",
    "vector_tool = QueryEngineTool.from_defaults(\n",
    "    query_engine=retriever_query_engine,\n",
    "    description=(\n",
    "        f\"Useful for answering semantic questions about cdc chronic disease indicators\"\n",
    "    ),\n",
    ")"
   ]
  },
  {
   "cell_type": "markdown",
   "id": "812bb509-4585-4e15-a71e-381815af6539",
   "metadata": {},
   "source": [
    "### Define SQLAutoVectorQueryEngine and ask Questions"
   ]
  },
  {
   "cell_type": "code",
   "execution_count": 33,
   "id": "8fd8cf0b-220f-4f81-9014-2007498be9fb",
   "metadata": {},
   "outputs": [],
   "source": [
    "query_engine = SQLAutoVectorQueryEngine(\n",
    "    sql_tool, vector_tool, service_context=service_context\n",
    ")"
   ]
  },
  {
   "cell_type": "code",
   "execution_count": 39,
   "id": "8ce9099f-bf6c-4fa5-b06b-ca2089fd05ca",
   "metadata": {},
   "outputs": [
    {
     "name": "stdout",
     "output_type": "stream",
     "text": [
      "\u001b[1;3;34mQuerying SQL database: The first choice seems more relevant as it involves translating a natural language query into a SQL query over a table containing chronic disease indicator data. The question 'List 5 Cancer indicators in the dataset?' could be considered a natural language query that needs to be translated into a SQL query to retrieve the required data from a dataset.\n",
      "\u001b[0mINFO:llama_index.query_engine.sql_join_query_engine:> Querying SQL database: The first choice seems more relevant as it involves translating a natural language query into a SQL query over a table containing chronic disease indicator data. The question 'List 5 Cancer indicators in the dataset?' could be considered a natural language query that needs to be translated into a SQL query to retrieve the required data from a dataset.\n",
      "> Querying SQL database: The first choice seems more relevant as it involves translating a natural language query into a SQL query over a table containing chronic disease indicator data. The question 'List 5 Cancer indicators in the dataset?' could be considered a natural language query that needs to be translated into a SQL query to retrieve the required data from a dataset.\n",
      "INFO:llama_index.indices.struct_store.sql_retriever:> Table desc str: Table 'datasource' has columns: datasourceid (INTEGER), datasource (VARCHAR(255)), and foreign keys: .\n",
      "\n",
      "Table 'datatypes' has columns: datatypeid (INTEGER), datavaluetype (VARCHAR(100)), datavalueunit (VARCHAR(100)), and foreign keys: .\n",
      "\n",
      "Table 'locations' has columns: locationid (INTEGER), locationabbr (VARCHAR(10)), locationdesc (VARCHAR(255)), geolocation (VARCHAR(255)), and foreign keys: .\n",
      "\n",
      "Table 'questions' has columns: questionid (INTEGER), question (VARCHAR(500)), topicid (INTEGER), and foreign keys: ['topicid'] -> topics.['topicid'].\n",
      "\n",
      "Table 'stratificationcategories' has columns: stratificationcategoryid (INTEGER), stratificationcategory (VARCHAR(255)), and foreign keys: .\n",
      "\n",
      "Table 'stratifications' has columns: stratificationid (INTEGER), stratification (VARCHAR(255)), stratificationcategoryid (INTEGER), and foreign keys: ['stratificationcategoryid'] -> stratificationcategories.['stratificationcategoryid'].\n",
      "\n",
      "Table 'surveydata' has columns: surveydataid (INTEGER), yearstart (INTEGER), yearend (INTEGER), locationid (INTEGER), datasourceid (INTEGER), questionid (INTEGER), datavalue (VARCHAR(100)), datavaluealt (NUMERIC), datavaluefootnotesymbol (VARCHAR(10)), datavaluefootnote (TEXT), lowconfidencelimit (NUMERIC), highconfidencelimit (NUMERIC), datatypeid (INTEGER), stratificationid (INTEGER), and foreign keys: ['datasourceid'] -> datasource.['datasourceid'], ['datatypeid'] -> datatypes.['datatypeid'], ['locationid'] -> locations.['locationid'], ['questionid'] -> questions.['questionid'], ['stratificationid'] -> stratifications.['stratificationid'].\n",
      "\n",
      "Table 'topics' has columns: topicid (INTEGER), topic (VARCHAR(255)), and foreign keys: .\n",
      "> Table desc str: Table 'datasource' has columns: datasourceid (INTEGER), datasource (VARCHAR(255)), and foreign keys: .\n",
      "\n",
      "Table 'datatypes' has columns: datatypeid (INTEGER), datavaluetype (VARCHAR(100)), datavalueunit (VARCHAR(100)), and foreign keys: .\n",
      "\n",
      "Table 'locations' has columns: locationid (INTEGER), locationabbr (VARCHAR(10)), locationdesc (VARCHAR(255)), geolocation (VARCHAR(255)), and foreign keys: .\n",
      "\n",
      "Table 'questions' has columns: questionid (INTEGER), question (VARCHAR(500)), topicid (INTEGER), and foreign keys: ['topicid'] -> topics.['topicid'].\n",
      "\n",
      "Table 'stratificationcategories' has columns: stratificationcategoryid (INTEGER), stratificationcategory (VARCHAR(255)), and foreign keys: .\n",
      "\n",
      "Table 'stratifications' has columns: stratificationid (INTEGER), stratification (VARCHAR(255)), stratificationcategoryid (INTEGER), and foreign keys: ['stratificationcategoryid'] -> stratificationcategories.['stratificationcategoryid'].\n",
      "\n",
      "Table 'surveydata' has columns: surveydataid (INTEGER), yearstart (INTEGER), yearend (INTEGER), locationid (INTEGER), datasourceid (INTEGER), questionid (INTEGER), datavalue (VARCHAR(100)), datavaluealt (NUMERIC), datavaluefootnotesymbol (VARCHAR(10)), datavaluefootnote (TEXT), lowconfidencelimit (NUMERIC), highconfidencelimit (NUMERIC), datatypeid (INTEGER), stratificationid (INTEGER), and foreign keys: ['datasourceid'] -> datasource.['datasourceid'], ['datatypeid'] -> datatypes.['datatypeid'], ['locationid'] -> locations.['locationid'], ['questionid'] -> questions.['questionid'], ['stratificationid'] -> stratifications.['stratificationid'].\n",
      "\n",
      "Table 'topics' has columns: topicid (INTEGER), topic (VARCHAR(255)), and foreign keys: .\n",
      "\u001b[1;3;33mSQL query: SELECT question\n",
      "FROM questions\n",
      "WHERE topicid = (SELECT topicid FROM topics WHERE topic = 'Cancer')\n",
      "LIMIT 5;\n",
      "\u001b[0m\u001b[1;3;33mSQL response: I'm sorry, but there are no specific cancer indicators listed in the dataset.\n",
      "\u001b[0m\u001b[1;3;34mTransformed query given SQL response: Can you list any general health indicators in the dataset?\n",
      "\u001b[0mINFO:llama_index.query_engine.sql_join_query_engine:> Transformed query given SQL response: Can you list any general health indicators in the dataset?\n",
      "> Transformed query given SQL response: Can you list any general health indicators in the dataset?\n",
      "INFO:llama_index.indices.vector_store.retrievers.auto_retriever.auto_retriever:Using query str: general health\n",
      "Using query str: general health\n",
      "INFO:llama_index.indices.vector_store.retrievers.auto_retriever.auto_retriever:Using filters: {}\n",
      "Using filters: {}\n",
      "INFO:llama_index.indices.vector_store.retrievers.auto_retriever.auto_retriever:Using top_k: 2\n",
      "Using top_k: 2\n",
      "\u001b[1;3;38;5;200mquery engine response: The dataset includes indicators for chronic disease surveillance in the United States. Specifically, it provides information on two health indicators: healthy weight among adults aged 18 years and older, and healthy weight among high school students.\n",
      "\u001b[0mINFO:llama_index.query_engine.sql_join_query_engine:> query engine response: The dataset includes indicators for chronic disease surveillance in the United States. Specifically, it provides information on two health indicators: healthy weight among adults aged 18 years and older, and healthy weight among high school students.\n",
      "> query engine response: The dataset includes indicators for chronic disease surveillance in the United States. Specifically, it provides information on two health indicators: healthy weight among adults aged 18 years and older, and healthy weight among high school students.\n",
      "\u001b[1;3;32mFinal response: The dataset does not contain specific indicators related to cancer. However, it does include general health indicators such as healthy weight among adults aged 18 years and older, and healthy weight among high school students. These indicators can be used for chronic disease surveillance, including cancer.\n",
      "\u001b[0m"
     ]
    }
   ],
   "source": [
    "response = query_engine.query(\n",
    "    'List 5 Cancer indicators in the dataset?'\n",
    ")"
   ]
  },
  {
   "cell_type": "code",
   "execution_count": null,
   "id": "3702e85b-57f8-40cb-b194-a39ac943354a",
   "metadata": {},
   "outputs": [],
   "source": [
    "response = query_engine.query(\n",
    "    'Give me max values for question Pneumococcal vaccination among noninstitutionalized adults aged 18-64 years with diagnosed diabetes. Group by  locationdesc an avalilable data value types. Make sure you omitt null values, text and cast to numeric. Format output as a tabele'\n",
    ")"
   ]
  },
  {
   "cell_type": "code",
   "execution_count": 40,
   "id": "d28b3e9d-ac10-45a1-8c8d-bbd5b4f57fba",
   "metadata": {},
   "outputs": [
    {
     "name": "stdout",
     "output_type": "stream",
     "text": [
      "\u001b[1;3;34mQuerying SQL database: The question is asking for specific data (highest value for a disease indicator) from a table, which suggests it needs a SQL query to retrieve this information. Choice 1 is about translating a natural language query into a SQL query over a table containing chronic disease indicator data, which aligns with the requirements of the question.\n",
      "\u001b[0mINFO:llama_index.query_engine.sql_join_query_engine:> Querying SQL database: The question is asking for specific data (highest value for a disease indicator) from a table, which suggests it needs a SQL query to retrieve this information. Choice 1 is about translating a natural language query into a SQL query over a table containing chronic disease indicator data, which aligns with the requirements of the question.\n",
      "> Querying SQL database: The question is asking for specific data (highest value for a disease indicator) from a table, which suggests it needs a SQL query to retrieve this information. Choice 1 is about translating a natural language query into a SQL query over a table containing chronic disease indicator data, which aligns with the requirements of the question.\n",
      "INFO:llama_index.indices.struct_store.sql_retriever:> Table desc str: Table 'datasource' has columns: datasourceid (INTEGER), datasource (VARCHAR(255)), and foreign keys: .\n",
      "\n",
      "Table 'datatypes' has columns: datatypeid (INTEGER), datavaluetype (VARCHAR(100)), datavalueunit (VARCHAR(100)), and foreign keys: .\n",
      "\n",
      "Table 'locations' has columns: locationid (INTEGER), locationabbr (VARCHAR(10)), locationdesc (VARCHAR(255)), geolocation (VARCHAR(255)), and foreign keys: .\n",
      "\n",
      "Table 'questions' has columns: questionid (INTEGER), question (VARCHAR(500)), topicid (INTEGER), and foreign keys: ['topicid'] -> topics.['topicid'].\n",
      "\n",
      "Table 'stratificationcategories' has columns: stratificationcategoryid (INTEGER), stratificationcategory (VARCHAR(255)), and foreign keys: .\n",
      "\n",
      "Table 'stratifications' has columns: stratificationid (INTEGER), stratification (VARCHAR(255)), stratificationcategoryid (INTEGER), and foreign keys: ['stratificationcategoryid'] -> stratificationcategories.['stratificationcategoryid'].\n",
      "\n",
      "Table 'surveydata' has columns: surveydataid (INTEGER), yearstart (INTEGER), yearend (INTEGER), locationid (INTEGER), datasourceid (INTEGER), questionid (INTEGER), datavalue (VARCHAR(100)), datavaluealt (NUMERIC), datavaluefootnotesymbol (VARCHAR(10)), datavaluefootnote (TEXT), lowconfidencelimit (NUMERIC), highconfidencelimit (NUMERIC), datatypeid (INTEGER), stratificationid (INTEGER), and foreign keys: ['datasourceid'] -> datasource.['datasourceid'], ['datatypeid'] -> datatypes.['datatypeid'], ['locationid'] -> locations.['locationid'], ['questionid'] -> questions.['questionid'], ['stratificationid'] -> stratifications.['stratificationid'].\n",
      "\n",
      "Table 'topics' has columns: topicid (INTEGER), topic (VARCHAR(255)), and foreign keys: .\n",
      "> Table desc str: Table 'datasource' has columns: datasourceid (INTEGER), datasource (VARCHAR(255)), and foreign keys: .\n",
      "\n",
      "Table 'datatypes' has columns: datatypeid (INTEGER), datavaluetype (VARCHAR(100)), datavalueunit (VARCHAR(100)), and foreign keys: .\n",
      "\n",
      "Table 'locations' has columns: locationid (INTEGER), locationabbr (VARCHAR(10)), locationdesc (VARCHAR(255)), geolocation (VARCHAR(255)), and foreign keys: .\n",
      "\n",
      "Table 'questions' has columns: questionid (INTEGER), question (VARCHAR(500)), topicid (INTEGER), and foreign keys: ['topicid'] -> topics.['topicid'].\n",
      "\n",
      "Table 'stratificationcategories' has columns: stratificationcategoryid (INTEGER), stratificationcategory (VARCHAR(255)), and foreign keys: .\n",
      "\n",
      "Table 'stratifications' has columns: stratificationid (INTEGER), stratification (VARCHAR(255)), stratificationcategoryid (INTEGER), and foreign keys: ['stratificationcategoryid'] -> stratificationcategories.['stratificationcategoryid'].\n",
      "\n",
      "Table 'surveydata' has columns: surveydataid (INTEGER), yearstart (INTEGER), yearend (INTEGER), locationid (INTEGER), datasourceid (INTEGER), questionid (INTEGER), datavalue (VARCHAR(100)), datavaluealt (NUMERIC), datavaluefootnotesymbol (VARCHAR(10)), datavaluefootnote (TEXT), lowconfidencelimit (NUMERIC), highconfidencelimit (NUMERIC), datatypeid (INTEGER), stratificationid (INTEGER), and foreign keys: ['datasourceid'] -> datasource.['datasourceid'], ['datatypeid'] -> datatypes.['datatypeid'], ['locationid'] -> locations.['locationid'], ['questionid'] -> questions.['questionid'], ['stratificationid'] -> stratifications.['stratificationid'].\n",
      "\n",
      "Table 'topics' has columns: topicid (INTEGER), topic (VARCHAR(255)), and foreign keys: .\n",
      "\u001b[1;3;33mSQL query: SELECT l.locationdesc, sd.datavalue\n",
      "FROM surveydata sd\n",
      "JOIN locations l ON sd.locationid = l.locationid\n",
      "JOIN questions q ON sd.questionid = q.questionid\n",
      "JOIN topics t ON q.topicid = t.topicid\n",
      "WHERE t.topic = 'Diabetes'\n",
      "AND q.question LIKE '%hospitalization%'\n",
      "ORDER BY sd.datavalue DESC\n",
      "LIMIT 1;\n",
      "\u001b[0m\u001b[1;3;33mSQL response: There are no results for the query.\n",
      "\u001b[0m\u001b[1;3;34mTransformed query given SQL response: Is there any state with data available for the indicator mentioning hospitalization in the topic Diabetes?\n",
      "\u001b[0mINFO:llama_index.query_engine.sql_join_query_engine:> Transformed query given SQL response: Is there any state with data available for the indicator mentioning hospitalization in the topic Diabetes?\n",
      "> Transformed query given SQL response: Is there any state with data available for the indicator mentioning hospitalization in the topic Diabetes?\n",
      "INFO:llama_index.indices.vector_store.retrievers.auto_retriever.auto_retriever:Using query str: Diabetes\n",
      "Using query str: Diabetes\n",
      "INFO:llama_index.indices.vector_store.retrievers.auto_retriever.auto_retriever:Using filters: {'chronic disease indicator': 'hospitalization'}\n",
      "Using filters: {'chronic disease indicator': 'hospitalization'}\n",
      "INFO:llama_index.indices.vector_store.retrievers.auto_retriever.auto_retriever:Using top_k: 2\n",
      "Using top_k: 2\n",
      "\u001b[1;3;38;5;200mquery engine response: Empty Response\n",
      "\u001b[0mINFO:llama_index.query_engine.sql_join_query_engine:> query engine response: Empty Response\n",
      "> query engine response: Empty Response\n",
      "\u001b[1;3;32mFinal response: There is no state with the highest value for the indicator mentioning hospitalization in the topic Diabetes.\n",
      "\u001b[0m"
     ]
    }
   ],
   "source": [
    "response = query_engine.query(\n",
    "    'which state has the highets value for indicator mentioning hospitalization in topic Diabetes?'\n",
    ")"
   ]
  },
  {
   "cell_type": "code",
   "execution_count": 41,
   "id": "7375b19e-c1b5-482c-98b3-6ff7f46881a5",
   "metadata": {},
   "outputs": [
    {
     "name": "stdout",
     "output_type": "stream",
     "text": [
      "\u001b[1;3;34mQuerying SQL database: The question is asking for a specific data query, which involves translating a natural language query into a SQL query. This is more closely related to the first choice, which mentions translating a natural language query into a SQL query over a table containing chronic disease indicator data.\n",
      "\u001b[0mINFO:llama_index.query_engine.sql_join_query_engine:> Querying SQL database: The question is asking for a specific data query, which involves translating a natural language query into a SQL query. This is more closely related to the first choice, which mentions translating a natural language query into a SQL query over a table containing chronic disease indicator data.\n",
      "> Querying SQL database: The question is asking for a specific data query, which involves translating a natural language query into a SQL query. This is more closely related to the first choice, which mentions translating a natural language query into a SQL query over a table containing chronic disease indicator data.\n",
      "INFO:llama_index.indices.struct_store.sql_retriever:> Table desc str: Table 'datasource' has columns: datasourceid (INTEGER), datasource (VARCHAR(255)), and foreign keys: .\n",
      "\n",
      "Table 'datatypes' has columns: datatypeid (INTEGER), datavaluetype (VARCHAR(100)), datavalueunit (VARCHAR(100)), and foreign keys: .\n",
      "\n",
      "Table 'locations' has columns: locationid (INTEGER), locationabbr (VARCHAR(10)), locationdesc (VARCHAR(255)), geolocation (VARCHAR(255)), and foreign keys: .\n",
      "\n",
      "Table 'questions' has columns: questionid (INTEGER), question (VARCHAR(500)), topicid (INTEGER), and foreign keys: ['topicid'] -> topics.['topicid'].\n",
      "\n",
      "Table 'stratificationcategories' has columns: stratificationcategoryid (INTEGER), stratificationcategory (VARCHAR(255)), and foreign keys: .\n",
      "\n",
      "Table 'stratifications' has columns: stratificationid (INTEGER), stratification (VARCHAR(255)), stratificationcategoryid (INTEGER), and foreign keys: ['stratificationcategoryid'] -> stratificationcategories.['stratificationcategoryid'].\n",
      "\n",
      "Table 'surveydata' has columns: surveydataid (INTEGER), yearstart (INTEGER), yearend (INTEGER), locationid (INTEGER), datasourceid (INTEGER), questionid (INTEGER), datavalue (VARCHAR(100)), datavaluealt (NUMERIC), datavaluefootnotesymbol (VARCHAR(10)), datavaluefootnote (TEXT), lowconfidencelimit (NUMERIC), highconfidencelimit (NUMERIC), datatypeid (INTEGER), stratificationid (INTEGER), and foreign keys: ['datasourceid'] -> datasource.['datasourceid'], ['datatypeid'] -> datatypes.['datatypeid'], ['locationid'] -> locations.['locationid'], ['questionid'] -> questions.['questionid'], ['stratificationid'] -> stratifications.['stratificationid'].\n",
      "\n",
      "Table 'topics' has columns: topicid (INTEGER), topic (VARCHAR(255)), and foreign keys: .\n",
      "> Table desc str: Table 'datasource' has columns: datasourceid (INTEGER), datasource (VARCHAR(255)), and foreign keys: .\n",
      "\n",
      "Table 'datatypes' has columns: datatypeid (INTEGER), datavaluetype (VARCHAR(100)), datavalueunit (VARCHAR(100)), and foreign keys: .\n",
      "\n",
      "Table 'locations' has columns: locationid (INTEGER), locationabbr (VARCHAR(10)), locationdesc (VARCHAR(255)), geolocation (VARCHAR(255)), and foreign keys: .\n",
      "\n",
      "Table 'questions' has columns: questionid (INTEGER), question (VARCHAR(500)), topicid (INTEGER), and foreign keys: ['topicid'] -> topics.['topicid'].\n",
      "\n",
      "Table 'stratificationcategories' has columns: stratificationcategoryid (INTEGER), stratificationcategory (VARCHAR(255)), and foreign keys: .\n",
      "\n",
      "Table 'stratifications' has columns: stratificationid (INTEGER), stratification (VARCHAR(255)), stratificationcategoryid (INTEGER), and foreign keys: ['stratificationcategoryid'] -> stratificationcategories.['stratificationcategoryid'].\n",
      "\n",
      "Table 'surveydata' has columns: surveydataid (INTEGER), yearstart (INTEGER), yearend (INTEGER), locationid (INTEGER), datasourceid (INTEGER), questionid (INTEGER), datavalue (VARCHAR(100)), datavaluealt (NUMERIC), datavaluefootnotesymbol (VARCHAR(10)), datavaluefootnote (TEXT), lowconfidencelimit (NUMERIC), highconfidencelimit (NUMERIC), datatypeid (INTEGER), stratificationid (INTEGER), and foreign keys: ['datasourceid'] -> datasource.['datasourceid'], ['datatypeid'] -> datatypes.['datatypeid'], ['locationid'] -> locations.['locationid'], ['questionid'] -> questions.['questionid'], ['stratificationid'] -> stratifications.['stratificationid'].\n",
      "\n",
      "Table 'topics' has columns: topicid (INTEGER), topic (VARCHAR(255)), and foreign keys: .\n",
      "\u001b[1;3;33mSQL query: SELECT l.locationdesc, CAST(sd.datavalue AS NUMERIC) \n",
      "FROM surveydata sd\n",
      "JOIN locations l ON sd.locationid = l.locationid\n",
      "JOIN questions q ON sd.questionid = q.questionid\n",
      "JOIN topics t ON q.topicid = t.topicid\n",
      "WHERE t.topic = 'Cancer' AND sd.datavalue IS NOT NULL\n",
      "ORDER BY CAST(sd.datavalue AS NUMERIC) DESC\n",
      "LIMIT 1;\n",
      "\u001b[0m\u001b[1;3;33mSQL response: There are no results for the given query.\n",
      "\u001b[0m\u001b[1;3;34mTransformed query given SQL response: Are there any states with non-null values for indicators mentioning mortality in the topic Cancer?\n",
      "\u001b[0mINFO:llama_index.query_engine.sql_join_query_engine:> Transformed query given SQL response: Are there any states with non-null values for indicators mentioning mortality in the topic Cancer?\n",
      "> Transformed query given SQL response: Are there any states with non-null values for indicators mentioning mortality in the topic Cancer?\n",
      "INFO:llama_index.indices.vector_store.retrievers.auto_retriever.auto_retriever:Using query str: Cancer\n",
      "Using query str: Cancer\n",
      "INFO:llama_index.indices.vector_store.retrievers.auto_retriever.auto_retriever:Using filters: {'chronic disease indicator': 'mortality'}\n",
      "Using filters: {'chronic disease indicator': 'mortality'}\n",
      "INFO:llama_index.indices.vector_store.retrievers.auto_retriever.auto_retriever:Using top_k: 2\n",
      "Using top_k: 2\n",
      "\u001b[1;3;38;5;200mquery engine response: Empty Response\n",
      "\u001b[0mINFO:llama_index.query_engine.sql_join_query_engine:> query engine response: Empty Response\n",
      "> query engine response: Empty Response\n",
      "\u001b[1;3;32mFinal response: There are no states with recorded values for indicators mentioning mortality in the topic of Cancer.\n",
      "\u001b[0m"
     ]
    }
   ],
   "source": [
    "response = query_engine.query(\n",
    "    'which state has the highets value for indicators mentioning mortality in topic Cancer. Remeber to omit null values and cast datavalue to numeric '\n",
    ")"
   ]
  },
  {
   "cell_type": "code",
   "execution_count": null,
   "id": "c0262ff2-ff8a-4758-8ede-d6535ce638f0",
   "metadata": {},
   "outputs": [],
   "source": []
  }
 ],
 "metadata": {
  "kernelspec": {
   "display_name": "Python 3 (ipykernel)",
   "language": "python",
   "name": "python3"
  },
  "language_info": {
   "codemirror_mode": {
    "name": "ipython",
    "version": 3
   },
   "file_extension": ".py",
   "mimetype": "text/x-python",
   "name": "python",
   "nbconvert_exporter": "python",
   "pygments_lexer": "ipython3",
   "version": "3.8.10"
  }
 },
 "nbformat": 4,
 "nbformat_minor": 5
}
