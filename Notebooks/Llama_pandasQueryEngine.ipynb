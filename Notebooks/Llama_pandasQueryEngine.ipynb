{
 "cells": [
  {
   "cell_type": "code",
   "execution_count": 1,
   "id": "6109eb6f-4116-43fb-936c-b2d4f17b8125",
   "metadata": {},
   "outputs": [],
   "source": [
    "import os\n",
    "import openai\n",
    "from dotenv import load_dotenv\n",
    "\n",
    "load_dotenv('../.env', override=True)\n",
    "\n",
    "openai.api_key = os.getenv('OPENAI_API_KEY')\n",
    "\n",
    "import nest_asyncio\n",
    "\n",
    "nest_asyncio.apply()"
   ]
  },
  {
   "cell_type": "code",
   "execution_count": 2,
   "id": "7061801f-bd54-4eeb-945c-655e6ddbbdb5",
   "metadata": {},
   "outputs": [],
   "source": [
    "import pandas as pd\n",
    "from llama_index.query_engine import PandasQueryEngine"
   ]
  },
  {
   "cell_type": "code",
   "execution_count": 3,
   "id": "7caf3f63-c787-4794-957e-e4a543c6e7c1",
   "metadata": {},
   "outputs": [
    {
     "name": "stderr",
     "output_type": "stream",
     "text": [
      "/tmp/ipykernel_29437/4264813096.py:2: DtypeWarning: Columns (9) have mixed types. Specify dtype option on import or set low_memory=False.\n",
      "  df = pd.read_csv('../data/filtered_data.csv')\n"
     ]
    }
   ],
   "source": [
    "# load data\n",
    "df = pd.read_csv('../data/filtered_data.csv')"
   ]
  },
  {
   "cell_type": "code",
   "execution_count": 4,
   "metadata": {},
   "outputs": [],
   "source": [
    "\n",
    "query_engine = PandasQueryEngine(df=df, verbose=True)"
   ]
  },
  {
   "cell_type": "code",
   "execution_count": 5,
   "id": "b1e8194f-453d-4c7b-a97e-ba11a3697a5b",
   "metadata": {},
   "outputs": [],
   "source": [
    "def chat(prompt, model='gpt-4', temperature=0.9):\n",
    "    response = openai.ChatCompletion.create(\n",
    "        model=model,\n",
    "        messages=[{'role': 'user', 'content': prompt}],\n",
    "        temperature=temperature,\n",
    "    )\n",
    "    return response.choices[0].message['content']\n",
    "\n",
    "\n",
    "instruction_string = \"\"\"You are a expert in U.S. Chronic Disease Indicators (CDI).CDC's Division of Population Health provides cross-cutting set of 124 indicators that were developed by consensus and that allows states and territories and large metropolitan areas to uniformly define, collect, and report chronic disease data that are important to public health practice and available for states, territories and large metropolitan areas. (from CDC website)\n",
    "\n",
    "The indicators are set up in the column [\"Question\"] and are classified in one of the 17 health topics. Each Question is answered for several diferent Stratification categories. These are provided in column ['Startification1'] The dataset as provided is in long format on state and national level for years between 2008 and 2020. Some Values are given as average over a range of years. The range can be seen in YearStart and YearEnd columns.\n",
    "\n",
    "Reframe the ouput from this pandas query so that it will apear as if I am chating with you, the expert. \n",
    "\"\"\"\n",
    "\n",
    "\n"
   ]
  },
  {
   "cell_type": "code",
   "execution_count": 6,
   "metadata": {},
   "outputs": [],
   "source": [
    "\n",
    "injected_prompt = \"\"\"\n",
    "When asked for comparison or correlations or calculations make sure you exclude DataValueType 'Yes/No'.\n",
    "When dealing with numeric Data Value Types, the following rules apply:\n",
    "df.DataValue = df.DataValue.astype('float').\n",
    "\"\"\""
   ]
  },
  {
   "cell_type": "code",
   "execution_count": 7,
   "metadata": {},
   "outputs": [
    {
     "ename": "FileNotFoundError",
     "evalue": "[Errno 2] No such file or directory: 'Questions.xlsx'",
     "output_type": "error",
     "traceback": [
      "\u001b[0;31m---------------------------------------------------------------------------\u001b[0m",
      "\u001b[0;31mFileNotFoundError\u001b[0m                         Traceback (most recent call last)",
      "\u001b[1;32m/home/adnan/MADS/capstone/Notebooks/pandasQueryEngine.ipynb Cell 7\u001b[0m line \u001b[0;36m1\n\u001b[0;32m----> <a href='vscode-notebook-cell://wsl%2Bubuntu-20.04/home/adnan/MADS/capstone/Notebooks/pandasQueryEngine.ipynb#W6sdnNjb2RlLXJlbW90ZQ%3D%3D?line=0'>1</a>\u001b[0m questions \u001b[39m=\u001b[39m pd\u001b[39m.\u001b[39;49mread_excel(\u001b[39m'\u001b[39;49m\u001b[39mQuestions.xlsx\u001b[39;49m\u001b[39m'\u001b[39;49m)\n\u001b[1;32m      <a href='vscode-notebook-cell://wsl%2Bubuntu-20.04/home/adnan/MADS/capstone/Notebooks/pandasQueryEngine.ipynb#W6sdnNjb2RlLXJlbW90ZQ%3D%3D?line=1'>2</a>\u001b[0m questions\u001b[39m.\u001b[39mQuestion\n",
      "File \u001b[0;32m~/MADS/capstone/chatbot/lib/python3.9/site-packages/pandas/util/_decorators.py:211\u001b[0m, in \u001b[0;36mdeprecate_kwarg.<locals>._deprecate_kwarg.<locals>.wrapper\u001b[0;34m(*args, **kwargs)\u001b[0m\n\u001b[1;32m    209\u001b[0m     \u001b[39melse\u001b[39;00m:\n\u001b[1;32m    210\u001b[0m         kwargs[new_arg_name] \u001b[39m=\u001b[39m new_arg_value\n\u001b[0;32m--> 211\u001b[0m \u001b[39mreturn\u001b[39;00m func(\u001b[39m*\u001b[39;49margs, \u001b[39m*\u001b[39;49m\u001b[39m*\u001b[39;49mkwargs)\n",
      "File \u001b[0;32m~/MADS/capstone/chatbot/lib/python3.9/site-packages/pandas/util/_decorators.py:331\u001b[0m, in \u001b[0;36mdeprecate_nonkeyword_arguments.<locals>.decorate.<locals>.wrapper\u001b[0;34m(*args, **kwargs)\u001b[0m\n\u001b[1;32m    325\u001b[0m \u001b[39mif\u001b[39;00m \u001b[39mlen\u001b[39m(args) \u001b[39m>\u001b[39m num_allow_args:\n\u001b[1;32m    326\u001b[0m     warnings\u001b[39m.\u001b[39mwarn(\n\u001b[1;32m    327\u001b[0m         msg\u001b[39m.\u001b[39mformat(arguments\u001b[39m=\u001b[39m_format_argument_list(allow_args)),\n\u001b[1;32m    328\u001b[0m         \u001b[39mFutureWarning\u001b[39;00m,\n\u001b[1;32m    329\u001b[0m         stacklevel\u001b[39m=\u001b[39mfind_stack_level(),\n\u001b[1;32m    330\u001b[0m     )\n\u001b[0;32m--> 331\u001b[0m \u001b[39mreturn\u001b[39;00m func(\u001b[39m*\u001b[39;49margs, \u001b[39m*\u001b[39;49m\u001b[39m*\u001b[39;49mkwargs)\n",
      "File \u001b[0;32m~/MADS/capstone/chatbot/lib/python3.9/site-packages/pandas/io/excel/_base.py:482\u001b[0m, in \u001b[0;36mread_excel\u001b[0;34m(io, sheet_name, header, names, index_col, usecols, squeeze, dtype, engine, converters, true_values, false_values, skiprows, nrows, na_values, keep_default_na, na_filter, verbose, parse_dates, date_parser, thousands, decimal, comment, skipfooter, convert_float, mangle_dupe_cols, storage_options)\u001b[0m\n\u001b[1;32m    480\u001b[0m \u001b[39mif\u001b[39;00m \u001b[39mnot\u001b[39;00m \u001b[39misinstance\u001b[39m(io, ExcelFile):\n\u001b[1;32m    481\u001b[0m     should_close \u001b[39m=\u001b[39m \u001b[39mTrue\u001b[39;00m\n\u001b[0;32m--> 482\u001b[0m     io \u001b[39m=\u001b[39m ExcelFile(io, storage_options\u001b[39m=\u001b[39;49mstorage_options, engine\u001b[39m=\u001b[39;49mengine)\n\u001b[1;32m    483\u001b[0m \u001b[39melif\u001b[39;00m engine \u001b[39mand\u001b[39;00m engine \u001b[39m!=\u001b[39m io\u001b[39m.\u001b[39mengine:\n\u001b[1;32m    484\u001b[0m     \u001b[39mraise\u001b[39;00m \u001b[39mValueError\u001b[39;00m(\n\u001b[1;32m    485\u001b[0m         \u001b[39m\"\u001b[39m\u001b[39mEngine should not be specified when passing \u001b[39m\u001b[39m\"\u001b[39m\n\u001b[1;32m    486\u001b[0m         \u001b[39m\"\u001b[39m\u001b[39man ExcelFile - ExcelFile already has the engine set\u001b[39m\u001b[39m\"\u001b[39m\n\u001b[1;32m    487\u001b[0m     )\n",
      "File \u001b[0;32m~/MADS/capstone/chatbot/lib/python3.9/site-packages/pandas/io/excel/_base.py:1652\u001b[0m, in \u001b[0;36mExcelFile.__init__\u001b[0;34m(self, path_or_buffer, engine, storage_options)\u001b[0m\n\u001b[1;32m   1650\u001b[0m     ext \u001b[39m=\u001b[39m \u001b[39m\"\u001b[39m\u001b[39mxls\u001b[39m\u001b[39m\"\u001b[39m\n\u001b[1;32m   1651\u001b[0m \u001b[39melse\u001b[39;00m:\n\u001b[0;32m-> 1652\u001b[0m     ext \u001b[39m=\u001b[39m inspect_excel_format(\n\u001b[1;32m   1653\u001b[0m         content_or_path\u001b[39m=\u001b[39;49mpath_or_buffer, storage_options\u001b[39m=\u001b[39;49mstorage_options\n\u001b[1;32m   1654\u001b[0m     )\n\u001b[1;32m   1655\u001b[0m     \u001b[39mif\u001b[39;00m ext \u001b[39mis\u001b[39;00m \u001b[39mNone\u001b[39;00m:\n\u001b[1;32m   1656\u001b[0m         \u001b[39mraise\u001b[39;00m \u001b[39mValueError\u001b[39;00m(\n\u001b[1;32m   1657\u001b[0m             \u001b[39m\"\u001b[39m\u001b[39mExcel file format cannot be determined, you must specify \u001b[39m\u001b[39m\"\u001b[39m\n\u001b[1;32m   1658\u001b[0m             \u001b[39m\"\u001b[39m\u001b[39man engine manually.\u001b[39m\u001b[39m\"\u001b[39m\n\u001b[1;32m   1659\u001b[0m         )\n",
      "File \u001b[0;32m~/MADS/capstone/chatbot/lib/python3.9/site-packages/pandas/io/excel/_base.py:1525\u001b[0m, in \u001b[0;36minspect_excel_format\u001b[0;34m(content_or_path, storage_options)\u001b[0m\n\u001b[1;32m   1522\u001b[0m \u001b[39mif\u001b[39;00m \u001b[39misinstance\u001b[39m(content_or_path, \u001b[39mbytes\u001b[39m):\n\u001b[1;32m   1523\u001b[0m     content_or_path \u001b[39m=\u001b[39m BytesIO(content_or_path)\n\u001b[0;32m-> 1525\u001b[0m \u001b[39mwith\u001b[39;00m get_handle(\n\u001b[1;32m   1526\u001b[0m     content_or_path, \u001b[39m\"\u001b[39;49m\u001b[39mrb\u001b[39;49m\u001b[39m\"\u001b[39;49m, storage_options\u001b[39m=\u001b[39;49mstorage_options, is_text\u001b[39m=\u001b[39;49m\u001b[39mFalse\u001b[39;49;00m\n\u001b[1;32m   1527\u001b[0m ) \u001b[39mas\u001b[39;00m handle:\n\u001b[1;32m   1528\u001b[0m     stream \u001b[39m=\u001b[39m handle\u001b[39m.\u001b[39mhandle\n\u001b[1;32m   1529\u001b[0m     stream\u001b[39m.\u001b[39mseek(\u001b[39m0\u001b[39m)\n",
      "File \u001b[0;32m~/MADS/capstone/chatbot/lib/python3.9/site-packages/pandas/io/common.py:865\u001b[0m, in \u001b[0;36mget_handle\u001b[0;34m(path_or_buf, mode, encoding, compression, memory_map, is_text, errors, storage_options)\u001b[0m\n\u001b[1;32m    856\u001b[0m         handle \u001b[39m=\u001b[39m \u001b[39mopen\u001b[39m(\n\u001b[1;32m    857\u001b[0m             handle,\n\u001b[1;32m    858\u001b[0m             ioargs\u001b[39m.\u001b[39mmode,\n\u001b[0;32m   (...)\u001b[0m\n\u001b[1;32m    861\u001b[0m             newline\u001b[39m=\u001b[39m\u001b[39m\"\u001b[39m\u001b[39m\"\u001b[39m,\n\u001b[1;32m    862\u001b[0m         )\n\u001b[1;32m    863\u001b[0m     \u001b[39melse\u001b[39;00m:\n\u001b[1;32m    864\u001b[0m         \u001b[39m# Binary mode\u001b[39;00m\n\u001b[0;32m--> 865\u001b[0m         handle \u001b[39m=\u001b[39m \u001b[39mopen\u001b[39;49m(handle, ioargs\u001b[39m.\u001b[39;49mmode)\n\u001b[1;32m    866\u001b[0m     handles\u001b[39m.\u001b[39mappend(handle)\n\u001b[1;32m    868\u001b[0m \u001b[39m# Convert BytesIO or file objects passed with an encoding\u001b[39;00m\n",
      "\u001b[0;31mFileNotFoundError\u001b[0m: [Errno 2] No such file or directory: 'Questions.xlsx'"
     ]
    }
   ],
   "source": [
    "questions = pd.read_excel('Questions.xlsx')\n",
    "questions.Question"
   ]
  },
  {
   "cell_type": "code",
   "execution_count": 8,
   "metadata": {},
   "outputs": [
    {
     "name": "stdout",
     "output_type": "stream",
     "text": [
      "> Pandas Instructions:\n",
      "```\n",
      "df['Topic'].unique()\n",
      "```\n",
      "> Pandas Output: ['Asthma' 'Cancer' 'Chronic Kidney Disease'\n",
      " 'Chronic Obstructive Pulmonary Disease' 'Cardiovascular Disease'\n",
      " 'Diabetes' 'Disability' 'Reproductive Health' 'Tobacco' 'Alcohol'\n",
      " 'Arthritis' 'Nutrition, Physical Activity, and Weight Status'\n",
      " 'Mental Health' 'Older Adults' 'Oral Health' 'Overarching Conditions'\n",
      " 'Immunization']\n",
      "What are some of the topics tracked in the dataset?\n",
      "\n",
      " The dataset tracks a wide range of health topics related to chronic diseases. These include:\n",
      "\n",
      "1. Asthma: This tracks data related to the prevalence, management, and impact of asthma across different populations.\n",
      "\n",
      "2. Cancer: This includes data related to various types of cancers, their prevalence, risk factors, and outcomes.\n",
      "\n",
      "3. Chronic Kidney Disease: Here, you'll find data on factors contributing to kidney disease and its progression.\n",
      "\n",
      "4. Chronic Obstructive Pulmonary Disease (COPD): This section contains information relating to COPD including its prevalence and associated risk factors.\n",
      "\n",
      "5. Cardiovascular Disease: This topic covers data on various heart and blood vessel diseases.\n",
      "\n",
      "6. Diabetes: This tracks information on the prevalence of diabetes, its management, and complications.\n",
      "\n",
      "7. Disability: This contains data on disability prevalence and its impact on health outcomes.\n",
      "\n",
      "8. Reproductive Health: This topic includes data on various aspects of reproductive health like fertility, pregnancy, and sexual health.\n",
      "\n",
      "9. Tobacco: Here, you'll find data on tobacco use and its health impacts.\n",
      "\n",
      "10. Alcohol: This section contains information on alcohol consumption and its health impacts.\n",
      "\n",
      "11. Arthritis: This topic covers data on arthritis prevalence and its implications on health.\n",
      "\n",
      "12. Nutrition, Physical Activity, and Weight Status: This section contains data on dietary habits, physical activity levels, and weight status, and how these factors influence health.\n",
      "\n",
      "13. Mental Health: This topic focuses on mental health conditions and their prevalence.\n",
      "\n",
      "14. Older Adults: This section contains information on health conditions prevalent in older adults.\n",
      "\n",
      "15. Oral Health: This topic covers data on oral health conditions and their influence on overall health.\n",
      "\n",
      "16. Overarching Conditions: This topic includes data on overall health conditions and their impact.\n",
      "\n",
      "17. Immunization: This section contains data on vaccination rates and their impact on population health.\n",
      "\n",
      "These topics provide a comprehensive look at the most prevalent and impactful health challenges currently facing the United States.\n"
     ]
    }
   ],
   "source": [
    "question = questions.iloc[0]['Question']\n",
    "response = query_engine.query(\n",
    "   f'{injected_prompt} + {question}'\n",
    ")\n",
    "\n",
    "\n",
    "chat_response = chat(\n",
    "    f'{instruction_string}{question}{response} ')\n",
    "print(f'{question}\\n\\n {chat_response}')"
   ]
  },
  {
   "cell_type": "code",
   "execution_count": 9,
   "metadata": {},
   "outputs": [
    {
     "name": "stdout",
     "output_type": "stream",
     "text": [
      "> Pandas Instructions:\n",
      "```\n",
      "df[df['Topic'] == 'Cancer']['Question'].unique()\n",
      "```\n",
      "> Pandas Output: ['Cancer of the oral cavity and pharynx, mortality'\n",
      " 'Cancer of the prostate, mortality'\n",
      " 'Invasive cancer (all sites combined), mortality'\n",
      " 'Cancer of the female breast, mortality'\n",
      " 'Cancer of the female cervix, mortality'\n",
      " 'Cancer of the colon and rectum (colorectal), mortality'\n",
      " 'Cancer of the lung and bronchus, mortality'\n",
      " 'Invasive melanoma, incidence' 'Melanoma, mortality'\n",
      " 'Invasive cancer of the oral cavity or pharynx, incidence'\n",
      " 'Invasive cancer of the prostate, incidence'\n",
      " 'Invasive cancer (all sites combined), incidence'\n",
      " 'Invasive cancer of the female breast, incidence'\n",
      " 'Invasive cancer of the cervix, incidence'\n",
      " 'Cancer of the colon and rectum (colorectal), incidence'\n",
      " 'Cancer of the lung and bronchus, incidence'\n",
      " 'Mammography use among women aged 50-74 years'\n",
      " 'Fecal occult blood test, sigmoidoscopy, or colonoscopy among adults aged 50-75 years'\n",
      " 'Recent Papanicolaou smear use among women aged 21-44 years'\n",
      " 'Papanicolaou smear use among adult women aged 21-65 years']\n",
      "List Cancer related indicators available in the dataset.\n",
      "\n",
      " In the dataset, there is a wide range of indicators related to cancer. Here are some of them:\n",
      "\n",
      "1. Mortality rates:\n",
      "- Cancer of the oral cavity and pharynx\n",
      "- Prostate cancer\n",
      "- Invasive cancer (all sites combined)\n",
      "- Female breast cancer\n",
      "- Female cervix cancer\n",
      "- Colon and rectum (colorectal) cancer\n",
      "- Lung and bronchus cancer\n",
      "- Melanoma\n",
      "\n",
      "2. Incidence rates:\n",
      "- Invasive melanoma\n",
      "- Invasive cancer of the oral cavity or pharynx\n",
      "- Invasive prostate cancer\n",
      "- Invasive cancer (all sites combined)\n",
      "- Invasive female breast cancer\n",
      "- Invasive cervix cancer\n",
      "- Colon and rectum (colorectal) cancer\n",
      "- Lung and bronchus cancer\n",
      "\n",
      "3. Screening and testing practices:\n",
      "- Mammography use among women aged 50-74 years\n",
      "- Fecal occult blood test, sigmoidoscopy, or colonoscopy among adults aged 50-75 years\n",
      "- Recent Papanicolaou smear use among women aged 21-44 years\n",
      "- Papanicolaou smear use among adult females aged 21-65 years \n",
      "\n",
      "These indicators provide critical information on mortality rates, incidence rates, and screening practices across diverse types of cancer. They can be used to inform public health strategies and interventions.\n"
     ]
    }
   ],
   "source": [
    "question = questions.iloc[1]['Question']\n",
    "response = query_engine.query(\n",
    "   f'{injected_prompt} + {question}'\n",
    ")\n",
    "\n",
    "\n",
    "chat_response = chat(\n",
    "    f'{instruction_string}{question}{response} ')\n",
    "print(f'{question}\\n\\n {chat_response}')"
   ]
  },
  {
   "cell_type": "code",
   "execution_count": 10,
   "metadata": {},
   "outputs": [
    {
     "name": "stdout",
     "output_type": "stream",
     "text": [
      "> Pandas Instructions:\n",
      "```\n",
      "eval(\"df[df['DataValueType'] != 'Yes/No'].loc[df['YearEnd'] == df['YearEnd'].max(), 'Question'].unique()\")\n",
      "```\n",
      "> Pandas Output: ['Adults aged >= 18 years with arthritis who have taken a class to learn how to manage arthritis symptoms'\n",
      " 'Amount of alcohol excise tax by beverage type (beer)'\n",
      " 'Amount of alcohol excise tax by beverage type (wine)'\n",
      " 'Amount of alcohol excise tax by beverage type (distilled spirits)'\n",
      " 'Commercial host (dram shop) liability laws'\n",
      " 'Oral health services at Federally Qualified Health Centers'\n",
      " 'Proportion of the population protected by a comprehensive smoke-free policy prohibiting smoking in all indoor areas of workplaces and public places, including restaurants and bars'\n",
      " 'Asthma prevalence among women aged 18-44 years'\n",
      " 'Heavy drinking among adults aged >= 18 years'\n",
      " 'Diabetes prevalence among women aged 18-44 years'\n",
      " 'Current smoking among adults aged >= 18 years'\n",
      " 'Arthritis among adults aged >= 18 years'\n",
      " 'Current asthma prevalence among adults aged >= 18 years'\n",
      " 'Prevalence of chronic kidney disease among adults aged >= 18 years'\n",
      " 'Cholesterol screening among adults aged >= 18 years'\n",
      " 'Foot examination among adults aged >= 18 years with diagnosed diabetes'\n",
      " 'Arthritis among adults aged >= 18 years who have diabetes'\n",
      " 'Quit attempts in the past year among current smokers'\n",
      " 'Dilated eye examination among adults aged >= 18 years with diagnosed diabetes'\n",
      " 'Recent mentally unhealthy days among adults aged >= 18 years'\n",
      " 'Heavy drinking among women aged 18-44 years'\n",
      " 'Arthritis among adults aged >= 18 years who are obese'\n",
      " 'Binge drinking intensity among adults aged >= 18 years who binge drink'\n",
      " 'Arthritis among adults aged >= 18 years who have heart disease'\n",
      " 'Overweight or obesity among adults aged >= 18 years'\n",
      " 'Pneumococcal vaccination among noninstitutionalized adults aged 18-64 years with diagnosed diabetes'\n",
      " 'Current health care coverage among women aged 18-44 years'\n",
      " 'Current smokeless tobacco use among adults aged >= 18 years'\n",
      " 'Pneumococcal vaccination among noninstitutionalized adults aged >= 65 years with a history of coronary heart disease'\n",
      " 'Influenza vaccination among noninstitutionalized adults aged 18-64 years with a history of coronary heart disease or stroke'\n",
      " 'Awareness of high blood pressure among women aged 18-44 years'\n",
      " 'Recent activity limitation among adults aged >= 18 years'\n",
      " 'Self-rated health status among women aged 18-44 years'\n",
      " 'Current lack of health insurance among adults aged 18-64 years'\n",
      " 'At least 14 recent mentally unhealthy days among women aged 18-44 years'\n",
      " 'Obesity among adults aged >= 18 years'\n",
      " 'Binge drinking frequency among adults aged >= 18 years who binge drink'\n",
      " 'High cholesterol prevalence among adults aged >= 18 years'\n",
      " 'Taking medicine for high blood pressure control among adults aged >= 18 years with high blood pressure'\n",
      " 'Physical inactivity among adults aged >= 18 years with arthritis'\n",
      " 'Adults with diagnosed diabetes aged >= 18 years who have taken a diabetes self-management course'\n",
      " 'Prevalence of chronic obstructive pulmonary disease among adults >= 18'\n",
      " 'Prevalence of chronic obstructive pulmonary disease among adults >= 45 years'\n",
      " 'Work limitation due to arthritis among adults aged 18-64 years who have doctor-diagnosed arthritis'\n",
      " 'Median daily frequency of vegetable consumption among adults aged >= 18 years'\n",
      " 'Median daily frequency of fruit consumption among adults aged >= 18 years'\n",
      " 'Prevalence of current smoking among adults >= 45 years with diagnosed chronic obstructive pulmonary disease'\n",
      " 'Influenza vaccination among noninstitutionalized adults aged >= 18 years'\n",
      " 'Pneumococcal vaccination among noninstitutionalized adults aged >= 65 years who smoke'\n",
      " 'Prevalence of current smoking among adults >= 18 with diagnosed chronic obstructive pulmonary disease'\n",
      " 'Prevalence of depressive disorders among adults aged >= 18 years with diagnosed diabetes'\n",
      " 'Glycosylated hemoglobin measurement among adults aged >= 18 years with diagnosed diabetes'\n",
      " 'Influenza vaccination among noninstitutionalized adults aged >= 65 years with diagnosed diabetes'\n",
      " 'No leisure-time physical activity among adults aged >= 18 years'\n",
      " 'Pneumococcal vaccination among noninstitutionalized adults aged 18-64 years with a history of coronary heart disease'\n",
      " 'Awareness of high blood pressure among adults aged >= 18 years'\n",
      " 'Pneumococcal vaccination among noninstitutionalized adults aged >= 65 years with diagnosed diabetes'\n",
      " 'Influenza vaccination among noninstitutionalized adults aged >= 65 years with a history of coronary heart disease or stroke'\n",
      " 'Binge drinking prevalence among adults aged >= 18 years'\n",
      " 'Pneumococcal vaccination among noninstitutionalized adults aged >= 45 years with chronic obstructive pulmonary disease'\n",
      " 'Timeliness of routine health care checkup among women aged 18-44 years'\n",
      " 'Fair or poor health among adults aged >= 18 years with arthritis'\n",
      " 'Prevalence of high cholesterol among adults aged >= 18 years with diagnosed diabetes'\n",
      " 'Influenza vaccination among noninstitutionalized adults aged >= 45 years with chronic obstructive pulmonary disease'\n",
      " 'Prevalence of diagnosed diabetes among adults aged >= 18 years'\n",
      " 'Binge drinking prevalence among women aged 18-44 years'\n",
      " 'Pneumococcal vaccination among noninstitutionalized adults aged 18-64 years who smoke'\n",
      " 'Activity limitation due to arthritis among adults aged >= 18 years who have doctor-diagnosed arthritis'\n",
      " 'Recent physically unhealthy days among adults aged >= 18 years'\n",
      " 'Influenza vaccination among noninstitutionalized adults aged >= 65 years with asthma'\n",
      " 'Fair or poor self-rated health status among adults aged >= 18 years'\n",
      " 'Influenza vaccination among noninstitutionalized adults aged 18-64 years with diagnosed diabetes'\n",
      " 'Influenza vaccination among noninstitutionalized adults aged 18-64 years with asthma'\n",
      " 'Pneumococcal vaccination among noninstitutionalized adults aged 18-64 years with asthma'\n",
      " 'Severe joint pain due to arthritis among adults aged >= 18 years who have doctor-diagnosed arthritis'\n",
      " 'Healthy weight among adults aged >= 18 years'\n",
      " 'Pneumococcal vaccination among noninstitutionalized adults aged >= 65 years with asthma'\n",
      " 'Prevalence of high blood pressure among adults aged >= 18 years with diagnosed diabetes'\n",
      " 'Overweight or obesity among women aged 18-44 years'\n",
      " 'Current cigarette smoking among women aged 18-44 years']\n",
      "List Cancer related Indicators for which there are data for the last year of any available data.\n",
      "\n",
      " The latest data has been collected for various chronic disease indicators related to cancer. These indicators include various aspects such as:\n",
      "\n",
      "1. Arthritis management among adults aged 18 years and above\n",
      "2. Amount of alcohol excise tax for different beverages\n",
      "3. Provisions for oral health services at Federally Qualified Health Centers\n",
      "4. Population coverage by comprehensive smoke-free policy\n",
      "5. Prevalence of asthma and heavy drinking among adults and women specifically in the age group of 18-44 years\n",
      "6. Diabetes prevalence among adults and women specifically in the age group of 18-44 years\n",
      "7. Current smoking and arthritis trends among adults\n",
      "8. Prevalence of chronic kidney disease and cholesterol screening among adults\n",
      "9. Dilated eye examination and foot examination frequency among adults with diagnosed diabetes\n",
      "10. Quit attempts among current smokers\n",
      "11. Current health care coverage and smokeless tobacco use among adults\n",
      "12. Influenza and Pneumococcal vaccination coverage among noninstitutionalized adults with certain health conditions\n",
      "13. High cholesterol prevalence, physical inactivity and obesity trends among adults\n",
      "14. Prevalence of chronic obstructive pulmonary disease among adults\n",
      "15. Median daily frequency of fruit and vegetable consumption among adults\n",
      "16. Prevalence of current smoking among adults with diagnosed chronic obstructive pulmonary disease\n",
      "17. Prevalence of depressive disorders among adults with diagnosed diabetes\n",
      "18. Awareness of high blood pressure among adults\n",
      "19. Binge drinking prevalence among adults\n",
      "20. Prevalence of diagnosed diabetes among adults\n",
      "21. Activity limitation due to arthritis among adults with doctor-diagnosed arthritis\n",
      "22. Fair or poor self-rated health status among adults\n",
      "23. Severe joint pain due to arthritis among adults with doctor-diagnosed arthritis\n",
      "24. Prevalence of high blood pressure among adults with diagnosed diabetes.\n",
      "\n",
      "These indicators provide crucial insights related to the state and national chronic disease scenario and are instrumental in formulating public health strategies.\n"
     ]
    }
   ],
   "source": [
    "question = questions.iloc[2]['Question']\n",
    "\n",
    "\n",
    "\n",
    "response = query_engine.query(\n",
    "   f'{injected_prompt} + {question}'\n",
    ")\n",
    "\n",
    "chat_response = chat(\n",
    "    f'{instruction_string}{question}{response} ')\n",
    "print(f'{question}\\n\\n {chat_response}')\n"
   ]
  },
  {
   "cell_type": "code",
   "execution_count": 11,
   "metadata": {},
   "outputs": [
    {
     "name": "stdout",
     "output_type": "stream",
     "text": [
      "> Pandas Instructions:\n",
      "```\n",
      "eval(\"df['DataValueType'].unique()\")\n",
      "```\n",
      "> Pandas Output: ['Number' 'Average Annual Number' 'Crude Prevalence'\n",
      " 'Local control of the regulation of alcohol outlet density' 'US Dollars'\n",
      " 'Commercial host (dram shop) liability status for alcohol service'\n",
      " 'Per capita alcohol consumption' 'Prevalence' 'Yes/No' 'Percent' 'Mean'\n",
      " 'Median']\n",
      "I am intersested in how many diferent datavaluetypes are there in the dataset. %, mean value et..? Namne them all.\n",
      "\n",
      " In the U.S. Chronic Disease Indicators dataset, there are several different data value types utilized to categorize and understand the collected information. Overall, there are a total of 12 unique data value types in the dataset. \n",
      "\n",
      "They are as follows:\n",
      "1. Number - Indicates a definite, fixed count or amount. \n",
      "2. Average Annual Number - Establishes a yearly average taken across a certain period of time.\n",
      "3. Crude Prevalence - A measurement of how often a disease occurs in a population over a specific time period.\n",
      "4. Local control of the regulation of alcohol outlet density - Reflects the local authority's control over how many places can sell alcohol in a particular area.\n",
      "5. US Dollars - Represents a specific monetary measurement or amount expressed in the currency of the United States. \n",
      "6. Commercial host (dram shop) liability status for alcohol service - Classifies the responsibility of commercial establishments (like bars or restaurants) in relation to serving alcohol to patrons who then cause harm to others.\n",
      "7. Per capita alcohol consumption - The average amount of alcohol consumed per person.\n",
      "8. Prevalence - A measure of how common a disease is within a population for a specific point in time.\n",
      "9. Yes/No - A binary state, either affirming or denying a particular condition or circumstance.\n",
      "10. Percent - A data value type signifying a portion of a whole, expressed as a number out of 100. \n",
      "11. Mean - An average value calculated from a set of numbers.\n",
      "12. Median - The middle value in a set of numbers, dividing the data into two halves.\n",
      "\n",
      "Each data value type plays a crucial role in interpreting the chronic disease data effectively and provides different perspectives on the observations.\n"
     ]
    }
   ],
   "source": [
    "question = questions.iloc[3]['Question']\n",
    "question = 'I am intersested in how many diferent datavaluetypes are there in the dataset. %, mean value et..? Namne them all.'\n",
    "\n",
    "\n",
    "response = query_engine.query(\n",
    "   f'{injected_prompt} + {question}'\n",
    ")\n",
    "\n",
    "chat_response = chat(\n",
    "    f'{instruction_string}{question}{response} ')\n",
    "print(f'{question}\\n\\n {chat_response}')"
   ]
  },
  {
   "cell_type": "code",
   "execution_count": 12,
   "metadata": {},
   "outputs": [
    {
     "name": "stdout",
     "output_type": "stream",
     "text": [
      "> Pandas Instructions:\n",
      "```\n",
      "df[df['Question'] == 'Fecal occult blood test, sigmoidoscopy, or colonoscopy among adults aged 50-75 years'].loc[df['YearEnd'] == df['YearEnd'].max()].loc[df['Stratification1'] == 'Overall']['DataValue'].mean()\n",
      "```\n",
      "> Pandas Output: nan\n",
      "What is the mean value for indicator \"Fecal occult blood test, sigmoidoscopy, or colonoscopy among adults aged 50-75 years\" in the last year of available data? Provide answer for Overall stratification group.\n",
      "\n",
      " Based on the most recent available data, the average value for the indicator \"Fecal occult blood test, sigmoidoscopy, or colonoscopy among adults aged 50-75 years\" for the Overall stratification group is 'X' (Note: replace 'X' with the actual value obtained from the dataset).\n"
     ]
    }
   ],
   "source": [
    "question = questions.iloc[4]['Question']\n",
    "\n",
    "\n",
    "response = query_engine.query(\n",
    "   f'{injected_prompt} + {question}'\n",
    ")\n",
    "\n",
    "chat_response = chat(\n",
    "    f'{instruction_string}{question}{response} ')\n",
    "print(f'{question}\\n\\n {chat_response}')"
   ]
  },
  {
   "cell_type": "code",
   "execution_count": 13,
   "metadata": {},
   "outputs": [
    {
     "name": "stdout",
     "output_type": "stream",
     "text": [
      "> Pandas Instructions:\n",
      "```\n",
      "df[df['Question'] == 'Cancer of the female breast, mortality'][df['LocationDesc'] == 'Wisconsin'][df['Stratification1'] == 'Overall']['DataValue'].values[0]\n",
      "```\n",
      "> Pandas Output: 763.0\n"
     ]
    },
    {
     "name": "stderr",
     "output_type": "stream",
     "text": [
      "<string>:1: UserWarning: Boolean Series key will be reindexed to match DataFrame index.\n"
     ]
    },
    {
     "name": "stdout",
     "output_type": "stream",
     "text": [
      "What is the value for \"Cancer of the female breast, mortality\" in Wisconsin. Provide answer for Overall stratification group.\n",
      "\n",
      " The mortality rate for cancer of the female breast in Wisconsin, considering the overall stratification group, is 763.0.\n"
     ]
    }
   ],
   "source": [
    "question = questions.iloc[5]['Question']\n",
    "\n",
    "\n",
    "response = query_engine.query(\n",
    "   f'{injected_prompt} + {question}'\n",
    ")\n",
    "\n",
    "chat_response = chat(\n",
    "    f'{instruction_string}{question}{response} ')\n",
    "print(f'{question}\\n\\n {chat_response}')"
   ]
  },
  {
   "cell_type": "code",
   "execution_count": 14,
   "metadata": {},
   "outputs": [
    {
     "name": "stdout",
     "output_type": "stream",
     "text": [
      "> Pandas Instructions:\n",
      "```\n",
      "df['DataValue'] = df['DataValue'].astype(float)\n",
      "df_filtered = df[(df['Question'] == 'Cancer of the female breast, mortality') & (df['DataValueType'] != 'Yes/No')]\n",
      "df_filtered = df_filtered[df_filtered['YearEnd'] == df_filtered['YearEnd'].max()]\n",
      "df_filtered = df_filtered[df_filtered['Stratification1'] == 'Overall']\n",
      "df_filtered = df_filtered.sort_values('DataValue', ascending=False)\n",
      "df_filtered['Rank'] = df_filtered['DataValue'].rank(ascending=False)\n",
      "df_filtered = df_filtered[df_filtered['Topic'] == 'Poverty']\n",
      "df_filtered['Rank'].iloc[0]\n",
      "```\n",
      "> Pandas Output: There was an error running the output as Python code. Error message: could not convert string to float: 'Category 4 - State had mixed alcohol retail licensing policies'\n"
     ]
    },
    {
     "name": "stderr",
     "output_type": "stream",
     "text": [
      "Traceback (most recent call last):\n",
      "  File \"/home/adnan/MADS/capstone/chatbot/lib/python3.9/site-packages/llama_index/query_engine/pandas_query_engine.py\", line 62, in default_output_processor\n",
      "    exec(ast.unparse(module), {}, local_vars)  # type: ignore\n",
      "  File \"<string>\", line 1, in <module>\n",
      "  File \"/home/adnan/MADS/capstone/chatbot/lib/python3.9/site-packages/pandas/core/generic.py\", line 6240, in astype\n",
      "    new_data = self._mgr.astype(dtype=dtype, copy=copy, errors=errors)\n",
      "  File \"/home/adnan/MADS/capstone/chatbot/lib/python3.9/site-packages/pandas/core/internals/managers.py\", line 448, in astype\n",
      "    return self.apply(\"astype\", dtype=dtype, copy=copy, errors=errors)\n",
      "  File \"/home/adnan/MADS/capstone/chatbot/lib/python3.9/site-packages/pandas/core/internals/managers.py\", line 352, in apply\n",
      "    applied = getattr(b, f)(**kwargs)\n",
      "  File \"/home/adnan/MADS/capstone/chatbot/lib/python3.9/site-packages/pandas/core/internals/blocks.py\", line 526, in astype\n",
      "    new_values = astype_array_safe(values, dtype, copy=copy, errors=errors)\n",
      "  File \"/home/adnan/MADS/capstone/chatbot/lib/python3.9/site-packages/pandas/core/dtypes/astype.py\", line 299, in astype_array_safe\n",
      "    new_values = astype_array(values, dtype, copy=copy)\n",
      "  File \"/home/adnan/MADS/capstone/chatbot/lib/python3.9/site-packages/pandas/core/dtypes/astype.py\", line 230, in astype_array\n",
      "    values = astype_nansafe(values, dtype, copy=copy)\n",
      "  File \"/home/adnan/MADS/capstone/chatbot/lib/python3.9/site-packages/pandas/core/dtypes/astype.py\", line 170, in astype_nansafe\n",
      "    return arr.astype(dtype, copy=True)\n",
      "ValueError: could not convert string to float: 'Category 4 - State had mixed alcohol retail licensing policies'\n"
     ]
    },
    {
     "name": "stdout",
     "output_type": "stream",
     "text": [
      "Which state has the worst values for \"Cancer of the female breast, mortality\" for the last year of available data for that particular indicator. Where does it rank in Poverty indicator among states? Provide answer for Overall stratification group.\n",
      "\n",
      " I'm sorry, but it appears there's been an error in processing your query due to data type conversion issues. Specifically, the system is trying to convert a string text related to alcohol retail licensing policies into a numerical float value, which isn't feasible. \n",
      "\n",
      "As for your question, I need to run a proper query first to find out which state has the worst values for \"Cancer of the female breast, mortality\" for the latest available data, as well as where it ranks in terms of poverty indicators among states. Sadly, due to the current error in the code, I'm unable to provide a concrete answer. If you could correct the data type or provide a better formatted dataset, I'd be more than happy to help.\n"
     ]
    }
   ],
   "source": [
    "question = questions.iloc[6]['Question']\n",
    "\n",
    "\n",
    "response = query_engine.query(\n",
    "   f'{injected_prompt} + {question}'\n",
    ")\n",
    "\n",
    "chat_response = chat(\n",
    "    f'{instruction_string}{question}{response} ')\n",
    "print(f'{question}\\n\\n {chat_response}')"
   ]
  },
  {
   "cell_type": "code",
   "execution_count": 15,
   "metadata": {},
   "outputs": [
    {
     "name": "stdout",
     "output_type": "stream",
     "text": [
      "> Pandas Instructions:\n",
      "```\n",
      "df['DataValueType'] = df['DataValueType'].astype(str)\n",
      "df['DataValue'] = df['DataValue'].astype(float)\n",
      "correlation = df.loc[(df['Question'] == 'Hospitalizations for asthma') & (df['Stratification1'] == 'Overall'), 'DataValue'].corr(df.loc[df['Question'] == 'Sale of cigarette packs', 'DataValue'])\n",
      "correlation\n",
      "```\n",
      "> Pandas Output: There was an error running the output as Python code. Error message: could not convert string to float: 'Category 4 - State had mixed alcohol retail licensing policies'\n"
     ]
    },
    {
     "name": "stderr",
     "output_type": "stream",
     "text": [
      "Traceback (most recent call last):\n",
      "  File \"/home/adnan/MADS/capstone/chatbot/lib/python3.9/site-packages/llama_index/query_engine/pandas_query_engine.py\", line 62, in default_output_processor\n",
      "    exec(ast.unparse(module), {}, local_vars)  # type: ignore\n",
      "  File \"<string>\", line 2, in <module>\n",
      "  File \"/home/adnan/MADS/capstone/chatbot/lib/python3.9/site-packages/pandas/core/generic.py\", line 6240, in astype\n",
      "    new_data = self._mgr.astype(dtype=dtype, copy=copy, errors=errors)\n",
      "  File \"/home/adnan/MADS/capstone/chatbot/lib/python3.9/site-packages/pandas/core/internals/managers.py\", line 448, in astype\n",
      "    return self.apply(\"astype\", dtype=dtype, copy=copy, errors=errors)\n",
      "  File \"/home/adnan/MADS/capstone/chatbot/lib/python3.9/site-packages/pandas/core/internals/managers.py\", line 352, in apply\n",
      "    applied = getattr(b, f)(**kwargs)\n",
      "  File \"/home/adnan/MADS/capstone/chatbot/lib/python3.9/site-packages/pandas/core/internals/blocks.py\", line 526, in astype\n",
      "    new_values = astype_array_safe(values, dtype, copy=copy, errors=errors)\n",
      "  File \"/home/adnan/MADS/capstone/chatbot/lib/python3.9/site-packages/pandas/core/dtypes/astype.py\", line 299, in astype_array_safe\n",
      "    new_values = astype_array(values, dtype, copy=copy)\n",
      "  File \"/home/adnan/MADS/capstone/chatbot/lib/python3.9/site-packages/pandas/core/dtypes/astype.py\", line 230, in astype_array\n",
      "    values = astype_nansafe(values, dtype, copy=copy)\n",
      "  File \"/home/adnan/MADS/capstone/chatbot/lib/python3.9/site-packages/pandas/core/dtypes/astype.py\", line 170, in astype_nansafe\n",
      "    return arr.astype(dtype, copy=True)\n",
      "ValueError: could not convert string to float: 'Category 4 - State had mixed alcohol retail licensing policies'\n"
     ]
    },
    {
     "name": "stdout",
     "output_type": "stream",
     "text": [
      "How does \"Hospitalizations for Asthma\" indicator corelate with \"Sale of cigarette packs\" Provide answer for Overall stratification group.\n",
      "\n",
      " It appears that there was an issue in trying to determine the correlation between the \"Hospitalizations for Asthma\" and \"Sale of Cigarette Packs\" indicators within the 'Overall' stratification group. The problem arises from an error related to the conversion of a string to a float in your data, specifically the string 'Category 4 - State had mixed alcohol retail licensing policies'. \n",
      "\n",
      "This means that at some point, this string was involved in a numerical operation or data manipulation that it shouldn't have been, as Python doesn't know how to handle mathematical operations with strings. This could be clearly an anomaly or data entry error.\n",
      "\n",
      "The challenge to find correlation between \"Hospitalizations for Asthma\" and \"Sale of Cigarette Packs\" indicators may require a deeper look into your dataset and possibly some data cleaning or transformation processes. Once the data has been appropriately preprocessed, it may become possible to establish a clear correlation. \n",
      "\n",
      "Remember, correlation analysis requires numerical data. Therefore, it would be crucial to ensure that both your \"Hospitalizations for Asthma\" and \"Sale of Cigarette Packs\" data are in appropriate numerical formats.\n"
     ]
    }
   ],
   "source": [
    "question = questions.iloc[7]['Question']\n",
    "\n",
    "\n",
    "response = query_engine.query(\n",
    "   f'{injected_prompt} + {question}'\n",
    ")\n",
    "\n",
    "chat_response = chat(\n",
    "    f'{instruction_string}{question}{response} ')\n",
    "print(f'{question}\\n\\n {chat_response}')"
   ]
  },
  {
   "cell_type": "code",
   "execution_count": 16,
   "metadata": {},
   "outputs": [
    {
     "name": "stdout",
     "output_type": "stream",
     "text": [
      "> Pandas Instructions:\n",
      "```\n",
      "df['DataValue'] = df['DataValue'].astype(float)\n",
      "correlation_matrix = df.corr()\n",
      "highest_correlation = correlation_matrix.unstack().sort_values(ascending=False).drop_duplicates().head(1)\n",
      "highest_correlation\n",
      "```\n",
      "> Pandas Output: There was an error running the output as Python code. Error message: could not convert string to float: 'Category 4 - State had mixed alcohol retail licensing policies'\n"
     ]
    },
    {
     "name": "stderr",
     "output_type": "stream",
     "text": [
      "Traceback (most recent call last):\n",
      "  File \"/home/adnan/MADS/capstone/chatbot/lib/python3.9/site-packages/llama_index/query_engine/pandas_query_engine.py\", line 62, in default_output_processor\n",
      "    exec(ast.unparse(module), {}, local_vars)  # type: ignore\n",
      "  File \"<string>\", line 1, in <module>\n",
      "  File \"/home/adnan/MADS/capstone/chatbot/lib/python3.9/site-packages/pandas/core/generic.py\", line 6240, in astype\n",
      "    new_data = self._mgr.astype(dtype=dtype, copy=copy, errors=errors)\n",
      "  File \"/home/adnan/MADS/capstone/chatbot/lib/python3.9/site-packages/pandas/core/internals/managers.py\", line 448, in astype\n",
      "    return self.apply(\"astype\", dtype=dtype, copy=copy, errors=errors)\n",
      "  File \"/home/adnan/MADS/capstone/chatbot/lib/python3.9/site-packages/pandas/core/internals/managers.py\", line 352, in apply\n",
      "    applied = getattr(b, f)(**kwargs)\n",
      "  File \"/home/adnan/MADS/capstone/chatbot/lib/python3.9/site-packages/pandas/core/internals/blocks.py\", line 526, in astype\n",
      "    new_values = astype_array_safe(values, dtype, copy=copy, errors=errors)\n",
      "  File \"/home/adnan/MADS/capstone/chatbot/lib/python3.9/site-packages/pandas/core/dtypes/astype.py\", line 299, in astype_array_safe\n",
      "    new_values = astype_array(values, dtype, copy=copy)\n",
      "  File \"/home/adnan/MADS/capstone/chatbot/lib/python3.9/site-packages/pandas/core/dtypes/astype.py\", line 230, in astype_array\n",
      "    values = astype_nansafe(values, dtype, copy=copy)\n",
      "  File \"/home/adnan/MADS/capstone/chatbot/lib/python3.9/site-packages/pandas/core/dtypes/astype.py\", line 170, in astype_nansafe\n",
      "    return arr.astype(dtype, copy=True)\n",
      "ValueError: could not convert string to float: 'Category 4 - State had mixed alcohol retail licensing policies'\n"
     ]
    },
    {
     "name": "stdout",
     "output_type": "stream",
     "text": [
      "Find the pair of Indicators with the highest correlation\n",
      "\n",
      " It seems like you're trying to find a pair of indicators with the highest correlation from the U.S. Chronic Disease Indicators (CDI) dataset. However, it appears there was an error running the Python code because a string value 'Category 4 - State had mixed alcohol retail licensing policies' couldn't be converted to a float number, which is required for correlation computations. This suggests that the dataset might contain non-numeric values or the selected column might not be appropriate for this type of analysis. \n",
      "\n",
      "We need to either clean these non-numeric values or choose a different column that contains numerical data to calculate correlation. Please, can you specify which indicators you are interested in, or should we clean the dataset first?\n"
     ]
    }
   ],
   "source": [
    "question = questions.iloc[8]['Question']\n",
    "\n",
    "\n",
    "response = query_engine.query(\n",
    "   f'{injected_prompt} + {question}'\n",
    ")\n",
    "\n",
    "chat_response = chat(\n",
    "    f'{instruction_string}{question}{response} ')\n",
    "print(f'{question}\\n\\n {chat_response}')"
   ]
  },
  {
   "cell_type": "code",
   "execution_count": 17,
   "metadata": {},
   "outputs": [
    {
     "name": "stdout",
     "output_type": "stream",
     "text": [
      "> Pandas Instructions:\n",
      "```\n",
      "df[df['DataValueType'] != 'Yes/No'].loc[df['Question'] == 'Poverty'].loc[df['Stratification1'] == 'Overall']['LocationDesc'].value_counts().idxmax()\n",
      "```\n",
      "> Pandas Output: Ohio\n",
      "Which state has the highest number of missing values for \"Poverty\" indicator? Provide answer for Overall stratification group.\n",
      "\n",
      " According to the data analysis, Ohio has the highest number of missing values for the \"Poverty\" indicator within the 'Overall' stratification category.\n"
     ]
    }
   ],
   "source": [
    "question = questions.iloc[9]['Question']\n",
    "\n",
    "\n",
    "response = query_engine.query(\n",
    "   f'{injected_prompt} + {question}'\n",
    ")\n",
    "\n",
    "chat_response = chat(\n",
    "    f'{instruction_string}{question}{response} ')\n",
    "print(f'{question}\\n\\n {chat_response}')"
   ]
  }
 ],
 "metadata": {
  "kernelspec": {
   "display_name": "Python 3 (ipykernel)",
   "language": "python",
   "name": "python3"
  },
  "language_info": {
   "codemirror_mode": {
    "name": "ipython",
    "version": 3
   },
   "file_extension": ".py",
   "mimetype": "text/x-python",
   "name": "python",
   "nbconvert_exporter": "python",
   "pygments_lexer": "ipython3",
   "version": "3.9.18"
  }
 },
 "nbformat": 4,
 "nbformat_minor": 5
}
