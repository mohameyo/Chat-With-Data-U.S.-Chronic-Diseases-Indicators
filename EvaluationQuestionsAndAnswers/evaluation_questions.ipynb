{
 "cells": [
  {
   "cell_type": "code",
   "execution_count": 5,
   "metadata": {},
   "outputs": [],
   "source": [
    "import pandas as pd\n",
    "import numpy as np"
   ]
  },
  {
   "cell_type": "code",
   "execution_count": 3,
   "metadata": {},
   "outputs": [
    {
     "name": "stderr",
     "output_type": "stream",
     "text": [
      "/tmp/ipykernel_26782/936502539.py:1: DtypeWarning: Columns (9) have mixed types. Specify dtype option on import or set low_memory=False.\n",
      "  df = pd.read_csv('data/filtered_data.csv')\n"
     ]
    }
   ],
   "source": [
    "df = pd.read_csv('data/filtered_data.csv')"
   ]
  },
  {
   "cell_type": "markdown",
   "metadata": {},
   "source": [
    "### Chat Bot Evaluation Questions\n",
    "\n",
    "to evaluate the performance of the chat bot, we will ask a number of questions and see if the chat bot can answer them correctly. The correct answers will be provided by us."
   ]
  },
  {
   "cell_type": "code",
   "execution_count": 38,
   "metadata": {},
   "outputs": [
    {
     "data": {
      "text/plain": [
       "array(['Cancer of the oral cavity and pharynx, mortality',\n",
       "       'Cancer of the prostate, mortality',\n",
       "       'Invasive cancer (all sites combined), mortality',\n",
       "       'Cancer of the female breast, mortality',\n",
       "       'Cancer of the female cervix, mortality',\n",
       "       'Cancer of the colon and rectum (colorectal), mortality',\n",
       "       'Cancer of the lung and bronchus, mortality',\n",
       "       'Invasive melanoma, incidence', 'Melanoma, mortality',\n",
       "       'Invasive cancer of the oral cavity or pharynx, incidence',\n",
       "       'Invasive cancer of the prostate, incidence',\n",
       "       'Invasive cancer (all sites combined), incidence',\n",
       "       'Invasive cancer of the female breast, incidence',\n",
       "       'Invasive cancer of the cervix, incidence',\n",
       "       'Cancer of the colon and rectum (colorectal), incidence',\n",
       "       'Cancer of the lung and bronchus, incidence',\n",
       "       'Mammography use among women aged 50-74 years',\n",
       "       'Fecal occult blood test, sigmoidoscopy, or colonoscopy among adults aged 50-75 years',\n",
       "       'Recent Papanicolaou smear use among women aged 21-44 years',\n",
       "       'Papanicolaou smear use among adult women aged 21-65 years'],\n",
       "      dtype=object)"
      ]
     },
     "execution_count": 38,
     "metadata": {},
     "output_type": "execute_result"
    }
   ],
   "source": [
    "# List Cancer related indicators available in the dataset.\n",
    "\n",
    "answer_1 = df[df.Topic == 'Cancer']['Question'].unique()\n",
    "answer_1"
   ]
  },
  {
   "cell_type": "code",
   "execution_count": 33,
   "metadata": {},
   "outputs": [
    {
     "data": {
      "text/plain": [
       "0"
      ]
     },
     "execution_count": 33,
     "metadata": {},
     "output_type": "execute_result"
    }
   ],
   "source": [
    "# List Cancer related Indicators for which there are data for the year the last year of any available data.\n",
    "answer_2 =  len(df[(df.Topic == 'Cancer') & (df.YearStart == df.YearStart.max())])\n",
    "answer_2"
   ]
  },
  {
   "cell_type": "code",
   "execution_count": 35,
   "metadata": {},
   "outputs": [
    {
     "data": {
      "text/plain": [
       "12"
      ]
     },
     "execution_count": 35,
     "metadata": {},
     "output_type": "execute_result"
    }
   ],
   "source": [
    "# How many diferent datatypes are in the dataset?\n",
    "answer_3 = len(df['DataValueType'].unique())\n",
    "answer_3"
   ]
  },
  {
   "cell_type": "code",
   "execution_count": 42,
   "metadata": {},
   "outputs": [
    {
     "data": {
      "text/plain": [
       "73.12222222222223"
      ]
     },
     "execution_count": 42,
     "metadata": {},
     "output_type": "execute_result"
    }
   ],
   "source": [
    "# What is the mean value for indicator 'Fecal occult blood test, sigmoidoscopy, or colonoscopy among adults aged 50-75 years' in the last year of available data? Provide answer for Overall stratification group.\n",
    "\n",
    "max_year = df[df.Question == 'Fecal occult blood test, sigmoidoscopy, or colonoscopy among adults aged 50-75 years']['YearStart'].max()\n",
    "\n",
    "answer_4 = df[(df.Question == 'Fecal occult blood test, sigmoidoscopy, or colonoscopy among adults aged 50-75 years') & (df.YearStart == max_year) & (df.Stratification1 == \"Overall\")]['DataValue'].mean()\n",
    "answer_4"
   ]
  },
  {
   "cell_type": "code",
   "execution_count": 66,
   "metadata": {},
   "outputs": [
    {
     "data": {
      "text/html": [
       "<div>\n",
       "<style scoped>\n",
       "    .dataframe tbody tr th:only-of-type {\n",
       "        vertical-align: middle;\n",
       "    }\n",
       "\n",
       "    .dataframe tbody tr th {\n",
       "        vertical-align: top;\n",
       "    }\n",
       "\n",
       "    .dataframe thead th {\n",
       "        text-align: right;\n",
       "    }\n",
       "</style>\n",
       "<table border=\"1\" class=\"dataframe\">\n",
       "  <thead>\n",
       "    <tr style=\"text-align: right;\">\n",
       "      <th></th>\n",
       "      <th>YearStart</th>\n",
       "      <th>YearEnd</th>\n",
       "      <th>DataValue</th>\n",
       "    </tr>\n",
       "  </thead>\n",
       "  <tbody>\n",
       "    <tr>\n",
       "      <th>18180</th>\n",
       "      <td>2015</td>\n",
       "      <td>2019</td>\n",
       "      <td>720.0</td>\n",
       "    </tr>\n",
       "    <tr>\n",
       "      <th>17772</th>\n",
       "      <td>2014</td>\n",
       "      <td>2018</td>\n",
       "      <td>729.0</td>\n",
       "    </tr>\n",
       "    <tr>\n",
       "      <th>18992</th>\n",
       "      <td>2013</td>\n",
       "      <td>2017</td>\n",
       "      <td>726.0</td>\n",
       "    </tr>\n",
       "    <tr>\n",
       "      <th>18543</th>\n",
       "      <td>2012</td>\n",
       "      <td>2016</td>\n",
       "      <td>743.0</td>\n",
       "    </tr>\n",
       "    <tr>\n",
       "      <th>18720</th>\n",
       "      <td>2011</td>\n",
       "      <td>2015</td>\n",
       "      <td>753.0</td>\n",
       "    </tr>\n",
       "    <tr>\n",
       "      <th>17331</th>\n",
       "      <td>2010</td>\n",
       "      <td>2014</td>\n",
       "      <td>763.0</td>\n",
       "    </tr>\n",
       "    <tr>\n",
       "      <th>19238</th>\n",
       "      <td>2009</td>\n",
       "      <td>2013</td>\n",
       "      <td>767.0</td>\n",
       "    </tr>\n",
       "    <tr>\n",
       "      <th>18357</th>\n",
       "      <td>2008</td>\n",
       "      <td>2012</td>\n",
       "      <td>758.0</td>\n",
       "    </tr>\n",
       "  </tbody>\n",
       "</table>\n",
       "</div>"
      ],
      "text/plain": [
       "       YearStart  YearEnd DataValue\n",
       "18180       2015     2019     720.0\n",
       "17772       2014     2018     729.0\n",
       "18992       2013     2017     726.0\n",
       "18543       2012     2016     743.0\n",
       "18720       2011     2015     753.0\n",
       "17331       2010     2014     763.0\n",
       "19238       2009     2013     767.0\n",
       "18357       2008     2012     758.0"
      ]
     },
     "execution_count": 66,
     "metadata": {},
     "output_type": "execute_result"
    }
   ],
   "source": [
    "# What is the value for 'Cancer of the female breast, mortality' in Wisconsin. Provide answer for Overall stratification group.\n",
    "\n",
    "answer_5 = df[(df.Question == 'Cancer of the female breast, mortality') & (df.Stratification1 == 'Overall') & (df.LocationAbbr == 'WI')][['YearStart', 'YearEnd', 'DataValue']].sort_values(by='YearStart', ascending=False)\n",
    "answer_5"
   ]
  },
  {
   "cell_type": "code",
   "execution_count": 126,
   "metadata": {},
   "outputs": [
    {
     "name": "stderr",
     "output_type": "stream",
     "text": [
      "/tmp/ipykernel_26782/3642622698.py:8: SettingWithCopyWarning: \n",
      "A value is trying to be set on a copy of a slice from a DataFrame.\n",
      "Try using .loc[row_indexer,col_indexer] = value instead\n",
      "\n",
      "See the caveats in the documentation: https://pandas.pydata.org/pandas-docs/stable/user_guide/indexing.html#returning-a-view-versus-a-copy\n",
      "  cancer_mortality.DataValue = cancer_mortality.DataValue.astype(float)\n",
      "/tmp/ipykernel_26782/3642622698.py:19: SettingWithCopyWarning: \n",
      "A value is trying to be set on a copy of a slice from a DataFrame.\n",
      "Try using .loc[row_indexer,col_indexer] = value instead\n",
      "\n",
      "See the caveats in the documentation: https://pandas.pydata.org/pandas-docs/stable/user_guide/indexing.html#returning-a-view-versus-a-copy\n",
      "  poverty_data['Rank'] = poverty_data['DataValue'].rank(ascending=True)\n"
     ]
    },
    {
     "data": {
      "text/plain": [
       "('California', 15.0)"
      ]
     },
     "execution_count": 126,
     "metadata": {},
     "output_type": "execute_result"
    }
   ],
   "source": [
    "# Which state has the worst values for 'Cancer of the female breast, mortality' for the last year of available data for that particular indictaor. Where does it rank in Poverty inicator among states? Provide answer for Overall stratification group.\n",
    "\n",
    "\n",
    "cancer_mortality = df[(df['Question'] == 'Cancer of the female breast, mortality') &\n",
    "                      (df['Stratification1'] == 'Overall') &\n",
    "                      (df['LocationAbbr'] != 'US')]\n",
    "\n",
    "cancer_mortality.DataValue = cancer_mortality.DataValue.astype(float)\n",
    "\n",
    "max_year = cancer_mortality['YearEnd'].max()\n",
    "worst_state_data = cancer_mortality[cancer_mortality['YearEnd'] == max_year].nlargest(1, 'DataValue')\n",
    "worst_state = worst_state_data['LocationDesc'].iloc[0] if not worst_state_data.empty else None\n",
    "\n",
    "# If a worst state is found, proceed to find its poverty ranking\n",
    "if worst_state:\n",
    "    poverty_data = df[(df['Question'] == 'Poverty') & \n",
    "                      (df['Stratification1'] == 'Overall') & \n",
    "                      (df['YearEnd'] == max_year)]\n",
    "    poverty_data['Rank'] = poverty_data['DataValue'].rank(ascending=True)\n",
    "    worst_state_poverty_rank = poverty_data[poverty_data['LocationDesc'] == worst_state]['Rank'].iloc[0] if not poverty_data.empty else None\n",
    "\n",
    "    answer_6 = (worst_state, worst_state_poverty_rank)\n",
    "else:\n",
    "    answer_6 = (\"No state found for the given criteria\", None)\n",
    "\n",
    "answer_6\n"
   ]
  },
  {
   "cell_type": "code",
   "execution_count": 127,
   "metadata": {},
   "outputs": [
    {
     "data": {
      "text/plain": [
       "('California', 15.0)"
      ]
     },
     "execution_count": 127,
     "metadata": {},
     "output_type": "execute_result"
    }
   ],
   "source": [
    "answer_6"
   ]
  },
  {
   "cell_type": "code",
   "execution_count": 86,
   "metadata": {},
   "outputs": [
    {
     "data": {
      "text/plain": [
       "nan"
      ]
     },
     "execution_count": 86,
     "metadata": {},
     "output_type": "execute_result"
    }
   ],
   "source": [
    "# How does 'Hospitalizations for Asthma' indicator corelate with 'Sale of cigarette packs' Provide answer for Overall stratification group.\n",
    "\n",
    "\n",
    "astma_hospitalizations = df[(df['Question'] == 'Hospitalizations for asthma') &\n",
    "                            (df['Stratification1'] == 'Overall') &\n",
    "                            (df['LocationAbbr'] == 'US')][['YearStart','DataValue']]\n",
    "\n",
    "astma_hospitalizations.DataValue = astma_hospitalizations.DataValue.astype(float)\n",
    "\n",
    "cigarete_sales = df[(df['Question'] == 'Sale of cigarette packs') &\n",
    "                    (df['Stratification1'] == 'Overall') &\n",
    "                    (df['LocationAbbr'] == 'US')][['YearStart','DataValue']]\n",
    "\n",
    "cigarete_sales.DataValue = cigarete_sales.DataValue.astype(float)\n",
    "\n",
    "correlation = astma_hospitalizations.DataValue.corr(cigarete_sales.DataValue)\n",
    "\n",
    "answer_7 = correlation\n",
    "\n",
    "answer_7"
   ]
  },
  {
   "cell_type": "code",
   "execution_count": 98,
   "metadata": {},
   "outputs": [
    {
     "data": {
      "text/plain": [
       "('Census tracts with healthier food retailers within � mile of boundary',\n",
       " 'Overweight or obesity among adults aged >= 18 years',\n",
       " 1.000000000000071)"
      ]
     },
     "execution_count": 98,
     "metadata": {},
     "output_type": "execute_result"
    }
   ],
   "source": [
    "import numpy as np\n",
    "# Filter for United States data for 'Overall' stratification\n",
    "df_us_overall = df[(df['LocationDesc'] == 'United States') & (df['Stratification1'] == 'Overall')]\n",
    "\n",
    "# Pivot the DataFrame to have indicators as columns, each row represents a year\n",
    "pivot_df = df_us_overall.pivot(index='YearEnd', columns='Question', values='DataValue')\n",
    "pivot_df = pivot_df.apply(pd.to_numeric, errors='coerce')\n",
    "# Compute the correlation matrix\n",
    "correlation_matrix = pivot_df.corr()\n",
    "\n",
    "# Find the pair with the highest correlation\n",
    "# We use np.nan_to_num to replace NaNs with zero to avoid comparing NaNs\n",
    "# We also replace 1s (perfect correlation of an indicator with itself) with 0 to avoid self-correlation\n",
    "correlation_matrix = np.nan_to_num(correlation_matrix.to_numpy(), nan=0.0)\n",
    "np.fill_diagonal(correlation_matrix, 0)\n",
    "\n",
    "# Get the indices of the maximum correlated pair\n",
    "max_corr_indices = np.unravel_index(np.argmax(correlation_matrix, axis=None), correlation_matrix.shape)\n",
    "max_corr_value = correlation_matrix[max_corr_indices]\n",
    "\n",
    "# Get the indicator names for the most correlated pair\n",
    "most_correlated_pair = pivot_df.columns[list(max_corr_indices)]\n",
    "\n",
    "# Output the names of the two most correlated indicators and their correlation coefficient\n",
    "answer_8 = most_correlated_pair[0], most_correlated_pair[1], max_corr_value\n",
    "answer_8"
   ]
  },
  {
   "cell_type": "code",
   "execution_count": 109,
   "metadata": {},
   "outputs": [
    {
     "name": "stdout",
     "output_type": "stream",
     "text": [
      "('Alabama', 0)\n"
     ]
    }
   ],
   "source": [
    "# Which state has the highest number of missing values for 'Poverty' indicator? Provide answer for Overall stratification group.\n",
    "\n",
    "poverty_data = df[(df['Question'] == 'Poverty') & (df['Stratification1'] == 'Overall')]\n",
    "# Count the number of missing values (NaN) in the 'DataValue' column for each state\n",
    "missing_values_count = poverty_data['DataValue'].isna().groupby(poverty_data['LocationDesc']).sum()\n",
    "\n",
    "# Find the state with the highest number of missing values\n",
    "state_with_most_missing_values = missing_values_count.idxmax()\n",
    "number_of_missing_values = missing_values_count.max()\n",
    "\n",
    "# Output the state with the most missing values and the count of missing values\n",
    "answer_9 = (state_with_most_missing_values, number_of_missing_values)\n",
    "print(answer_9)\n",
    "\n",
    "# the answer should be : There are no missing values for this selection criteria"
   ]
  },
  {
   "cell_type": "code",
   "execution_count": 123,
   "metadata": {},
   "outputs": [
    {
     "name": "stderr",
     "output_type": "stream",
     "text": [
      "/tmp/ipykernel_26782/57765857.py:11: SettingWithCopyWarning: \n",
      "A value is trying to be set on a copy of a slice from a DataFrame.\n",
      "Try using .loc[row_indexer,col_indexer] = value instead\n",
      "\n",
      "See the caveats in the documentation: https://pandas.pydata.org/pandas-docs/stable/user_guide/indexing.html#returning-a-view-versus-a-copy\n",
      "  df_latest_year_poverty_hispanic.DataValue = df_latest_year_poverty_hispanic.DataValue.astype(float)\n"
     ]
    }
   ],
   "source": [
    "# Which state ranks the highest in poverty for startification group 'Hispanic' in the last year of available data?\n",
    "\n",
    "df_poverty_hispanic = df[(df['Question'] == 'Poverty') & (df['Stratification1'] == 'Hispanic')]\n",
    "\n",
    "# Find the latest year of available data for this group\n",
    "latest_year = df_poverty_hispanic['YearEnd'].max()\n",
    "\n",
    "# Filter the data for this latest year\n",
    "df_latest_year_poverty_hispanic = df_poverty_hispanic[df_poverty_hispanic['YearEnd'] == latest_year]\n",
    "\n",
    "df_latest_year_poverty_hispanic.DataValue = df_latest_year_poverty_hispanic.DataValue.astype(float)\n",
    "\n",
    "# Rank the states based on the 'DataValue' which represents the poverty level, assuming that a higher value means higher poverty\n",
    "# Sort the DataFrame based on 'DataValue' in descending order to have the state with the highest poverty on top\n",
    "df_latest_year_poverty_hispanic_sorted = df_latest_year_poverty_hispanic.sort_values(by='DataValue', ascending=False)\n",
    "\n",
    "# The state with the highest rank in poverty will be the first entry in the sorted DataFrame\n",
    "state_highest_poverty_hispanic = df_latest_year_poverty_hispanic_sorted.iloc[0]['LocationDesc'] if not df_latest_year_poverty_hispanic_sorted.empty else None\n",
    "\n",
    "answer_10 = state_highest_poverty_hispanic\n",
    "\n"
   ]
  },
  {
   "cell_type": "code",
   "execution_count": 128,
   "metadata": {},
   "outputs": [
    {
     "name": "stdout",
     "output_type": "stream",
     "text": [
      "Answer 1: ['Cancer of the oral cavity and pharynx, mortality'\n",
      " 'Cancer of the prostate, mortality'\n",
      " 'Invasive cancer (all sites combined), mortality'\n",
      " 'Cancer of the female breast, mortality'\n",
      " 'Cancer of the female cervix, mortality'\n",
      " 'Cancer of the colon and rectum (colorectal), mortality'\n",
      " 'Cancer of the lung and bronchus, mortality'\n",
      " 'Invasive melanoma, incidence' 'Melanoma, mortality'\n",
      " 'Invasive cancer of the oral cavity or pharynx, incidence'\n",
      " 'Invasive cancer of the prostate, incidence'\n",
      " 'Invasive cancer (all sites combined), incidence'\n",
      " 'Invasive cancer of the female breast, incidence'\n",
      " 'Invasive cancer of the cervix, incidence'\n",
      " 'Cancer of the colon and rectum (colorectal), incidence'\n",
      " 'Cancer of the lung and bronchus, incidence'\n",
      " 'Mammography use among women aged 50-74 years'\n",
      " 'Fecal occult blood test, sigmoidoscopy, or colonoscopy among adults aged 50-75 years'\n",
      " 'Recent Papanicolaou smear use among women aged 21-44 years'\n",
      " 'Papanicolaou smear use among adult women aged 21-65 years']\n",
      "Answer 2: 0\n",
      "Answer 3: 12\n",
      "Answer 4: 73.12222222222223\n",
      "Answer 5:        YearStart  YearEnd DataValue\n",
      "18180       2015     2019     720.0\n",
      "17772       2014     2018     729.0\n",
      "18992       2013     2017     726.0\n",
      "18543       2012     2016     743.0\n",
      "18720       2011     2015     753.0\n",
      "17331       2010     2014     763.0\n",
      "19238       2009     2013     767.0\n",
      "18357       2008     2012     758.0\n",
      "Answer 6: ('California', 15.0)\n",
      "Answer 7: nan\n",
      "Answer 8: ('Census tracts with healthier food retailers within � mile of boundary', 'Overweight or obesity among adults aged >= 18 years', 1.000000000000071)\n",
      "Answer 9: ('Alabama', 0)\n",
      "Answer 10: Puerto Rico\n"
     ]
    }
   ],
   "source": [
    "for i in range(1, 11):\n",
    "    print(f\"Answer {i}: {globals()['answer_' + str(i)]}\")\n",
    "\n",
    "\n",
    "\n",
    "\n",
    "\n"
   ]
  },
  {
   "cell_type": "code",
   "execution_count": null,
   "metadata": {},
   "outputs": [],
   "source": []
  }
 ],
 "metadata": {
  "kernelspec": {
   "display_name": "Python 3 (ipykernel)",
   "language": "python",
   "name": "python3"
  },
  "language_info": {
   "codemirror_mode": {
    "name": "ipython",
    "version": 3
   },
   "file_extension": ".py",
   "mimetype": "text/x-python",
   "name": "python",
   "nbconvert_exporter": "python",
   "pygments_lexer": "ipython3",
   "version": "3.11.5"
  }
 },
 "nbformat": 4,
 "nbformat_minor": 2
}
